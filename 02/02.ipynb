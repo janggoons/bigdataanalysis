{
 "cells": [
  {
   "attachments": {},
   "cell_type": "markdown",
   "id": "f7389179",
   "metadata": {},
   "source": [
    "### 공공데이터 open data\n",
    "\n",
    "* 공공데이터란, \n",
    "  - 공공기관에서 업무를 수행하면서 만들었거나, 관리하고 있는 다양한 형태의 데이터 중에 외부에 공개된 데이터\n",
    "  - 공공데이터의 제공 및 이용 활성화에 관한 법률(약칭 공공데이터법) [링크](https://www.law.go.kr/%EB%B2%95%EB%A0%B9/%EA%B3%B5%EA%B3%B5%EB%8D%B0%EC%9D%B4%ED%84%B0%EC%9D%98%EC%A0%9C%EA%B3%B5%EB%B0%8F%EC%9D%B4%EC%9A%A9%ED%99%9C%EC%84%B1%ED%99%94%EC%97%90%EA%B4%80%ED%95%9C%EB%B2%95%EB%A5%A0)\n",
    "\n",
    "\n",
    "* 공공데이터 제공 사이트\n",
    "  - 공공데이터 포털 : https://www.data.go.kr/\n",
    "  - 국가통계포털 : https://kosis.kr/index/index.do\n",
    "  - 기상 자료 개방 포털 : https://data.kma.go.kr/cmmn/main.do\n",
    "  - 국가 공간정보 포털 : http://www.nsdi.go.kr/lxportal/?menuno=2679\n",
    "  - 문화 공공데이터 : https://www.culture.go.kr/data/main/main.do\n",
    "\n",
    "\n",
    "* 공공데이터 활용사례 \n",
    "  - 공공데이터 포털 제공 사례 [링크](https://www.data.go.kr/tcs/puc/selectPublicUseCaseListView.do)\n",
    "  - 행정안전부, 공공부문 데이터 분석활용 우수사례집, 2021 [링크](https://www.mois.go.kr/frt/bbs/type001/commonSelectBoardArticle.do;jsessionid=zaIDgnwA2y6Wy3xH9Po0sS8h.node10?bbsId=BBSMSTR_000000000015&nttId=89544#none)\n",
    "  - 문화데이터 활용 사례 [링크](https://www.culture.go.kr/data/application/info.do)\n",
    "  - 농림축산식품 공공데이터 포털 데이터 활용 사례 [링크](https://data.mafra.go.kr/prcuse/indexPrcuseServiceList.do)"
   ]
  },
  {
   "cell_type": "markdown",
   "id": "3d1f3268",
   "metadata": {},
   "source": [
    "### 샘플 문제 (1)\n",
    "\n",
    "* 문제 : 우리나라의 행정구역별 인구수는 얼마나 될까?\n",
    "\n",
    "1. 데이터 수집\n",
    "  - 행정구역(시군구)별, 성별 인구수\n",
    "  - 가장 최근 인구수 데이터를 시군구 지역까지 가져오기\n",
    "  - 국가통계포털 : https://kosis.kr/index/index.do\n",
    "    - 조회설정 > 행정구역(시군구)별을 2레벨까지, 시점을 가장 최근 시점으로 선택\n",
    "    - 다운로드 > csv\n",
    "\n",
    "\n",
    "2. 데이터 전처리\n",
    "  - 각 행에 시도와 군구 정보가 모두 포함되도록 새로운 열을 추가하기\n",
    "  - 필요 없는 행 삭제 및 첫번째 열 정보 수정\n",
    "  - 노트북 파일이 있는 곳과 동일한 폴더에 csv로 저장\n",
    "\n",
    "\n",
    "3. csv 데이터를 DataFrame 으로 가져오기\n",
    "\n",
    "\n",
    "* 판다스(Pandas)\n",
    "  - 데이터 처리와 분석을 위한 라이브러리\n",
    "  - 행과 열로 이루어진 데이터 객체를 만들 수 있음\n",
    "  - 1차원 데이터 구조 : Series\n",
    "  - 2차원 데이터 구조 : DataFrame\n",
    "  - 3차원 데이터 구조 : Panel"
   ]
  },
  {
   "cell_type": "code",
   "execution_count": 177,
   "id": "e9ebf5ae",
   "metadata": {},
   "outputs": [
    {
     "data": {
      "text/plain": [
       "'1.4.2'"
      ]
     },
     "execution_count": 177,
     "metadata": {},
     "output_type": "execute_result"
    }
   ],
   "source": [
    "import pandas as pd\n",
    "pd.__version__"
   ]
  },
  {
   "cell_type": "code",
   "execution_count": 178,
   "id": "62a6f004",
   "metadata": {},
   "outputs": [],
   "source": [
    "# csv 파일을 DataFrame 으로 가져오기\n",
    "popul = pd.read_csv('./population_20220726.csv', encoding='cp949', engine='python')\n",
    "\n",
    "# 상위 5개 데이터 확인\n",
    "# popul.head()\n",
    "\n",
    "# 전체 데이터 확인\n",
    "# display(popul)\n",
    "\n",
    "# 각 컬럼별 데이터타입 확인\n",
    "# popul.dtypes\n",
    "\n",
    "# 내가 사는 지역의 인구수 확인\n",
    "# popul.loc[(popul['군구'] == '노원구')]"
   ]
  },
  {
   "cell_type": "code",
   "execution_count": 179,
   "id": "e3c25e37",
   "metadata": {},
   "outputs": [],
   "source": [
    "# 지수표현식 대신 실수표현식으로 표시 옵션\n",
    "pd.options.display.float_format = '{:.5f}'.format\n",
    "# 실수표현식 대신 지수표현식으로 표시 옵션\n",
    "# pd.reset_option('display.float.format')"
   ]
  },
  {
   "cell_type": "code",
   "execution_count": 180,
   "id": "401e937d",
   "metadata": {},
   "outputs": [
    {
     "data": {
      "text/html": [
       "<div>\n",
       "<style scoped>\n",
       "    .dataframe tbody tr th:only-of-type {\n",
       "        vertical-align: middle;\n",
       "    }\n",
       "\n",
       "    .dataframe tbody tr th {\n",
       "        vertical-align: top;\n",
       "    }\n",
       "\n",
       "    .dataframe thead th {\n",
       "        text-align: right;\n",
       "    }\n",
       "</style>\n",
       "<table border=\"1\" class=\"dataframe\">\n",
       "  <thead>\n",
       "    <tr style=\"text-align: right;\">\n",
       "      <th></th>\n",
       "      <th>총인구수</th>\n",
       "      <th>남자인구수</th>\n",
       "      <th>여자인구수</th>\n",
       "    </tr>\n",
       "  </thead>\n",
       "  <tbody>\n",
       "    <tr>\n",
       "      <th>count</th>\n",
       "      <td>292.00000</td>\n",
       "      <td>292.00000</td>\n",
       "      <td>292.00000</td>\n",
       "    </tr>\n",
       "    <tr>\n",
       "      <th>mean</th>\n",
       "      <td>561261.09589</td>\n",
       "      <td>279853.58219</td>\n",
       "      <td>281407.51370</td>\n",
       "    </tr>\n",
       "    <tr>\n",
       "      <th>std</th>\n",
       "      <td>3175297.78687</td>\n",
       "      <td>1582659.37524</td>\n",
       "      <td>1592697.11997</td>\n",
       "    </tr>\n",
       "    <tr>\n",
       "      <th>min</th>\n",
       "      <td>0.00000</td>\n",
       "      <td>0.00000</td>\n",
       "      <td>0.00000</td>\n",
       "    </tr>\n",
       "    <tr>\n",
       "      <th>25%</th>\n",
       "      <td>52767.50000</td>\n",
       "      <td>26258.75000</td>\n",
       "      <td>25998.50000</td>\n",
       "    </tr>\n",
       "    <tr>\n",
       "      <th>50%</th>\n",
       "      <td>193273.00000</td>\n",
       "      <td>97247.00000</td>\n",
       "      <td>95297.00000</td>\n",
       "    </tr>\n",
       "    <tr>\n",
       "      <th>75%</th>\n",
       "      <td>370849.50000</td>\n",
       "      <td>183757.50000</td>\n",
       "      <td>190492.00000</td>\n",
       "    </tr>\n",
       "    <tr>\n",
       "      <th>max</th>\n",
       "      <td>51578178.00000</td>\n",
       "      <td>25711784.00000</td>\n",
       "      <td>25866394.00000</td>\n",
       "    </tr>\n",
       "  </tbody>\n",
       "</table>\n",
       "</div>"
      ],
      "text/plain": [
       "                총인구수          남자인구수          여자인구수\n",
       "count      292.00000      292.00000      292.00000\n",
       "mean    561261.09589   279853.58219   281407.51370\n",
       "std    3175297.78687  1582659.37524  1592697.11997\n",
       "min          0.00000        0.00000        0.00000\n",
       "25%      52767.50000    26258.75000    25998.50000\n",
       "50%     193273.00000    97247.00000    95297.00000\n",
       "75%     370849.50000   183757.50000   190492.00000\n",
       "max   51578178.00000 25711784.00000 25866394.00000"
      ]
     },
     "execution_count": 180,
     "metadata": {},
     "output_type": "execute_result"
    }
   ],
   "source": [
    "# 전체 데이터에 대한 요약 정보 확인\n",
    "popul.describe()"
   ]
  },
  {
   "cell_type": "code",
   "execution_count": 181,
   "id": "9d81d45e",
   "metadata": {},
   "outputs": [
    {
     "data": {
      "text/html": [
       "<div>\n",
       "<style scoped>\n",
       "    .dataframe tbody tr th:only-of-type {\n",
       "        vertical-align: middle;\n",
       "    }\n",
       "\n",
       "    .dataframe tbody tr th {\n",
       "        vertical-align: top;\n",
       "    }\n",
       "\n",
       "    .dataframe thead th {\n",
       "        text-align: right;\n",
       "    }\n",
       "</style>\n",
       "<table border=\"1\" class=\"dataframe\">\n",
       "  <thead>\n",
       "    <tr style=\"text-align: right;\">\n",
       "      <th></th>\n",
       "      <th>총인구수</th>\n",
       "      <th>남자인구수</th>\n",
       "      <th>여자인구수</th>\n",
       "    </tr>\n",
       "  </thead>\n",
       "  <tbody>\n",
       "    <tr>\n",
       "      <th>count</th>\n",
       "      <td>26.00000</td>\n",
       "      <td>26.00000</td>\n",
       "      <td>26.00000</td>\n",
       "    </tr>\n",
       "    <tr>\n",
       "      <th>mean</th>\n",
       "      <td>730369.76923</td>\n",
       "      <td>354281.15385</td>\n",
       "      <td>376088.61538</td>\n",
       "    </tr>\n",
       "    <tr>\n",
       "      <th>std</th>\n",
       "      <td>1791966.86894</td>\n",
       "      <td>869201.04636</td>\n",
       "      <td>922776.10764</td>\n",
       "    </tr>\n",
       "    <tr>\n",
       "      <th>min</th>\n",
       "      <td>122088.00000</td>\n",
       "      <td>59364.00000</td>\n",
       "      <td>62724.00000</td>\n",
       "    </tr>\n",
       "    <tr>\n",
       "      <th>25%</th>\n",
       "      <td>307915.00000</td>\n",
       "      <td>147500.75000</td>\n",
       "      <td>160414.25000</td>\n",
       "    </tr>\n",
       "    <tr>\n",
       "      <th>50%</th>\n",
       "      <td>387203.50000</td>\n",
       "      <td>188969.50000</td>\n",
       "      <td>198234.00000</td>\n",
       "    </tr>\n",
       "    <tr>\n",
       "      <th>75%</th>\n",
       "      <td>470663.00000</td>\n",
       "      <td>226155.50000</td>\n",
       "      <td>240536.00000</td>\n",
       "    </tr>\n",
       "    <tr>\n",
       "      <th>max</th>\n",
       "      <td>9494807.00000</td>\n",
       "      <td>4605655.00000</td>\n",
       "      <td>4889152.00000</td>\n",
       "    </tr>\n",
       "  </tbody>\n",
       "</table>\n",
       "</div>"
      ],
      "text/plain": [
       "               총인구수         남자인구수         여자인구수\n",
       "count      26.00000      26.00000      26.00000\n",
       "mean   730369.76923  354281.15385  376088.61538\n",
       "std   1791966.86894  869201.04636  922776.10764\n",
       "min    122088.00000   59364.00000   62724.00000\n",
       "25%    307915.00000  147500.75000  160414.25000\n",
       "50%    387203.50000  188969.50000  198234.00000\n",
       "75%    470663.00000  226155.50000  240536.00000\n",
       "max   9494807.00000 4605655.00000 4889152.00000"
      ]
     },
     "execution_count": 181,
     "metadata": {},
     "output_type": "execute_result"
    }
   ],
   "source": [
    "# 서울특별시 데이터에 대한 요약 정보 확인\n",
    "popul.loc[(popul['시도'] == '서울특별시')].describe()"
   ]
  },
  {
   "cell_type": "markdown",
   "id": "65f2b97a",
   "metadata": {},
   "source": [
    "* 시도별로 인구수 정보를 그래프로 표현하기\n",
    "\n",
    "* 맷플롯립 matplotlib\n",
    "  - 파이썬에서 데이터를 그래프로 시각화하는 패키지"
   ]
  },
  {
   "cell_type": "code",
   "execution_count": 182,
   "id": "93876de8",
   "metadata": {},
   "outputs": [
    {
     "data": {
      "image/png": "[encoded data removed]",
      "text/plain": [
       "<Figure size 1080x360 with 1 Axes>"
      ]
     },
     "metadata": {},
     "output_type": "display_data"
    }
   ],
   "source": [
    "from matplotlib import pyplot as plt\n",
    "from matplotlib import rcParams, style\n",
    "import numpy as np\n",
    "plt.style.use('ggplot')\n",
    "\n",
    "# 한글 폰트 설정\n",
    "from matplotlib import font_manager, rc\n",
    "font_name = font_manager.FontProperties(fname = \"C:/Windows/Fonts/malgun.ttf\").get_name()\n",
    "rc('font', family = font_name)\n",
    "\n",
    "# 그래프 크기 설정\n",
    "plt.rcParams[\"figure.figsize\"] = (15, 5)\n",
    "\n",
    "# 시도별 총인구수 그래프 그리기\n",
    "popul[['시도', '총인구수']].plot()\n",
    "plt.show()"
   ]
  },
  {
   "cell_type": "code",
   "execution_count": 183,
   "id": "f5bb19be",
   "metadata": {},
   "outputs": [
    {
     "data": {
      "text/html": [
       "<div>\n",
       "<style scoped>\n",
       "    .dataframe tbody tr th:only-of-type {\n",
       "        vertical-align: middle;\n",
       "    }\n",
       "\n",
       "    .dataframe tbody tr th {\n",
       "        vertical-align: top;\n",
       "    }\n",
       "\n",
       "    .dataframe thead th {\n",
       "        text-align: right;\n",
       "    }\n",
       "</style>\n",
       "<table border=\"1\" class=\"dataframe\">\n",
       "  <thead>\n",
       "    <tr style=\"text-align: right;\">\n",
       "      <th></th>\n",
       "      <th>총인구수</th>\n",
       "      <th>남자인구수</th>\n",
       "      <th>여자인구수</th>\n",
       "    </tr>\n",
       "    <tr>\n",
       "      <th>시도</th>\n",
       "      <th></th>\n",
       "      <th></th>\n",
       "      <th></th>\n",
       "    </tr>\n",
       "  </thead>\n",
       "  <tbody>\n",
       "    <tr>\n",
       "      <th>서울특별시</th>\n",
       "      <td>9494807</td>\n",
       "      <td>4605655</td>\n",
       "      <td>4889152</td>\n",
       "    </tr>\n",
       "    <tr>\n",
       "      <th>부산광역시</th>\n",
       "      <td>3336737</td>\n",
       "      <td>1630944</td>\n",
       "      <td>1705793</td>\n",
       "    </tr>\n",
       "    <tr>\n",
       "      <th>대구광역시</th>\n",
       "      <td>2375306</td>\n",
       "      <td>1169571</td>\n",
       "      <td>1205735</td>\n",
       "    </tr>\n",
       "    <tr>\n",
       "      <th>인천광역시</th>\n",
       "      <td>2957066</td>\n",
       "      <td>1480432</td>\n",
       "      <td>1476634</td>\n",
       "    </tr>\n",
       "    <tr>\n",
       "      <th>광주광역시</th>\n",
       "      <td>1435378</td>\n",
       "      <td>709685</td>\n",
       "      <td>725693</td>\n",
       "    </tr>\n",
       "    <tr>\n",
       "      <th>대전광역시</th>\n",
       "      <td>1448401</td>\n",
       "      <td>722517</td>\n",
       "      <td>725884</td>\n",
       "    </tr>\n",
       "    <tr>\n",
       "      <th>울산광역시</th>\n",
       "      <td>1115609</td>\n",
       "      <td>573152</td>\n",
       "      <td>542457</td>\n",
       "    </tr>\n",
       "    <tr>\n",
       "      <th>세종특별자치시</th>\n",
       "      <td>380215</td>\n",
       "      <td>189723</td>\n",
       "      <td>190492</td>\n",
       "    </tr>\n",
       "    <tr>\n",
       "      <th>경기도</th>\n",
       "      <td>13585967</td>\n",
       "      <td>6838396</td>\n",
       "      <td>6747571</td>\n",
       "    </tr>\n",
       "    <tr>\n",
       "      <th>강원도</th>\n",
       "      <td>1539064</td>\n",
       "      <td>774405</td>\n",
       "      <td>764659</td>\n",
       "    </tr>\n",
       "    <tr>\n",
       "      <th>충청북도</th>\n",
       "      <td>1597118</td>\n",
       "      <td>811127</td>\n",
       "      <td>785991</td>\n",
       "    </tr>\n",
       "    <tr>\n",
       "      <th>충청남도</th>\n",
       "      <td>2120201</td>\n",
       "      <td>1084712</td>\n",
       "      <td>1035489</td>\n",
       "    </tr>\n",
       "    <tr>\n",
       "      <th>전라북도</th>\n",
       "      <td>1778279</td>\n",
       "      <td>884908</td>\n",
       "      <td>893371</td>\n",
       "    </tr>\n",
       "    <tr>\n",
       "      <th>전라남도</th>\n",
       "      <td>1826440</td>\n",
       "      <td>919417</td>\n",
       "      <td>907023</td>\n",
       "    </tr>\n",
       "    <tr>\n",
       "      <th>경상북도</th>\n",
       "      <td>2613963</td>\n",
       "      <td>1318198</td>\n",
       "      <td>1295765</td>\n",
       "    </tr>\n",
       "    <tr>\n",
       "      <th>경상남도</th>\n",
       "      <td>3295615</td>\n",
       "      <td>1659245</td>\n",
       "      <td>1636370</td>\n",
       "    </tr>\n",
       "    <tr>\n",
       "      <th>제주특별자치도</th>\n",
       "      <td>678012</td>\n",
       "      <td>339697</td>\n",
       "      <td>338315</td>\n",
       "    </tr>\n",
       "  </tbody>\n",
       "</table>\n",
       "</div>"
      ],
      "text/plain": [
       "             총인구수    남자인구수    여자인구수\n",
       "시도                                 \n",
       "서울특별시     9494807  4605655  4889152\n",
       "부산광역시     3336737  1630944  1705793\n",
       "대구광역시     2375306  1169571  1205735\n",
       "인천광역시     2957066  1480432  1476634\n",
       "광주광역시     1435378   709685   725693\n",
       "대전광역시     1448401   722517   725884\n",
       "울산광역시     1115609   573152   542457\n",
       "세종특별자치시    380215   189723   190492\n",
       "경기도      13585967  6838396  6747571\n",
       "강원도       1539064   774405   764659\n",
       "충청북도      1597118   811127   785991\n",
       "충청남도      2120201  1084712  1035489\n",
       "전라북도      1778279   884908   893371\n",
       "전라남도      1826440   919417   907023\n",
       "경상북도      2613963  1318198  1295765\n",
       "경상남도      3295615  1659245  1636370\n",
       "제주특별자치도    678012   339697   338315"
      ]
     },
     "metadata": {},
     "output_type": "display_data"
    }
   ],
   "source": [
    "# 시도별 합계 인구수 정보만 사용하여 그래프 그리기\n",
    "popul_sido = popul.loc[popul['군구'] == '소계']\n",
    "popul_sido = popul_sido.drop(popul_sido.index[0])\n",
    "popul_sido = popul_sido[['시도', '총인구수', '남자인구수', '여자인구수']]\n",
    "popul_sido = popul_sido.set_index(['시도'])\n",
    "display(popul_sido)"
   ]
  },
  {
   "cell_type": "code",
   "execution_count": 184,
   "id": "354ca734",
   "metadata": {},
   "outputs": [
    {
     "data": {
      "image/png": "[encoded data removed]",
      "text/plain": [
       "<Figure size 1080x360 with 1 Axes>"
      ]
     },
     "metadata": {},
     "output_type": "display_data"
    }
   ],
   "source": [
    "# 시도별 인구수 그래프 그리기\n",
    "popul_sido.plot()\n",
    "plt.show()"
   ]
  },
  {
   "cell_type": "code",
   "execution_count": 185,
   "id": "3f647763",
   "metadata": {},
   "outputs": [
    {
     "data": {
      "image/png": "[encoded data removed]",
      "text/plain": [
       "<Figure size 1080x360 with 1 Axes>"
      ]
     },
     "metadata": {},
     "output_type": "display_data"
    }
   ],
   "source": [
    "# 막대 그래프로 그리기\n",
    "popul_sido.plot(kind = 'bar', rot = 90)\n",
    "plt.show()"
   ]
  },
  {
   "cell_type": "markdown",
   "id": "5d34641c",
   "metadata": {},
   "source": [
    "### 샘플 문제 (2)\n",
    "\n",
    "* 문제 : 우리나라의 행정구역별 인구수 대비 공공보건 의료기관 수는 얼마나 될까?\n",
    "\n",
    "1. 데이터 수집\n",
    "  - 보건복지부_공공보건 의료기관 현황 데이터  \n",
    "  - 공공데이터포털 [링크](https://www.data.go.kr/data/15004305/fileData.do)\n",
    "  \n",
    "\n",
    "2. csv 데이터를 DataFrame 으로 가져오기\n",
    "\n",
    "\n",
    "3. 데이터 전처리"
   ]
  },
  {
   "cell_type": "code",
   "execution_count": 186,
   "id": "c4ff930c",
   "metadata": {},
   "outputs": [
    {
     "data": {
      "text/html": [
       "<div>\n",
       "<style scoped>\n",
       "    .dataframe tbody tr th:only-of-type {\n",
       "        vertical-align: middle;\n",
       "    }\n",
       "\n",
       "    .dataframe tbody tr th {\n",
       "        vertical-align: top;\n",
       "    }\n",
       "\n",
       "    .dataframe thead th {\n",
       "        text-align: right;\n",
       "    }\n",
       "</style>\n",
       "<table border=\"1\" class=\"dataframe\">\n",
       "  <thead>\n",
       "    <tr style=\"text-align: right;\">\n",
       "      <th></th>\n",
       "      <th>병원 명</th>\n",
       "      <th>설립형태</th>\n",
       "      <th>근거 법령</th>\n",
       "      <th>관계 행정기관</th>\n",
       "      <th>관계 공공단체</th>\n",
       "      <th>심평원 요양기관번호</th>\n",
       "      <th>종별구분</th>\n",
       "      <th>병상수</th>\n",
       "      <th>소재지 우편번호</th>\n",
       "      <th>주소</th>\n",
       "      <th>홈페이지</th>\n",
       "      <th>대표전화</th>\n",
       "      <th>FAX</th>\n",
       "      <th>비고</th>\n",
       "    </tr>\n",
       "    <tr>\n",
       "      <th>연번</th>\n",
       "      <th></th>\n",
       "      <th></th>\n",
       "      <th></th>\n",
       "      <th></th>\n",
       "      <th></th>\n",
       "      <th></th>\n",
       "      <th></th>\n",
       "      <th></th>\n",
       "      <th></th>\n",
       "      <th></th>\n",
       "      <th></th>\n",
       "      <th></th>\n",
       "      <th></th>\n",
       "      <th></th>\n",
       "    </tr>\n",
       "  </thead>\n",
       "  <tbody>\n",
       "    <tr>\n",
       "      <th>1</th>\n",
       "      <td>강원도 재활병원</td>\n",
       "      <td>시도립</td>\n",
       "      <td>강원도재활병원설치및운영에관한조례</td>\n",
       "      <td>강원도</td>\n",
       "      <td>해당없음</td>\n",
       "      <td>32200641</td>\n",
       "      <td>병원</td>\n",
       "      <td>165</td>\n",
       "      <td>24227</td>\n",
       "      <td>강원도 춘천시 충열로 142번길 24-16</td>\n",
       "      <td>www.grh.or.kr</td>\n",
       "      <td>033-248-7700</td>\n",
       "      <td>033-248-7723</td>\n",
       "      <td>NaN</td>\n",
       "    </tr>\n",
       "    <tr>\n",
       "      <th>2</th>\n",
       "      <td>강원도 삼척의료원</td>\n",
       "      <td>특수법인</td>\n",
       "      <td>지방의료원의 설립 및 운영에 관한 법률</td>\n",
       "      <td>보건복지부(강원도)</td>\n",
       "      <td>지방의료원</td>\n",
       "      <td>32100060</td>\n",
       "      <td>종합병원</td>\n",
       "      <td>152</td>\n",
       "      <td>25920</td>\n",
       "      <td>강원도 삼척시 오십천로 418</td>\n",
       "      <td>http://ksmc.or.kr</td>\n",
       "      <td>033-572-1141</td>\n",
       "      <td>033-573-8424</td>\n",
       "      <td>NaN</td>\n",
       "    </tr>\n",
       "    <tr>\n",
       "      <th>3</th>\n",
       "      <td>강원도 영월의료원</td>\n",
       "      <td>특수법인</td>\n",
       "      <td>지방의료원의 설립 및 운영에 관한 법률</td>\n",
       "      <td>보건복지부(강원도)</td>\n",
       "      <td>지방의료원</td>\n",
       "      <td>32100078</td>\n",
       "      <td>종합병원</td>\n",
       "      <td>214</td>\n",
       "      <td>26234</td>\n",
       "      <td>강원도 영월군 영월읍 중앙1로 59</td>\n",
       "      <td>http://www.youngwol.org</td>\n",
       "      <td>033-370-9117</td>\n",
       "      <td>033-370-9137</td>\n",
       "      <td>NaN</td>\n",
       "    </tr>\n",
       "    <tr>\n",
       "      <th>4</th>\n",
       "      <td>강원도 원주의료원</td>\n",
       "      <td>특수법인</td>\n",
       "      <td>지방의료원의 설립 및 운영에 관한 법률</td>\n",
       "      <td>보건복지부(강원도)</td>\n",
       "      <td>지방의료원</td>\n",
       "      <td>32100086</td>\n",
       "      <td>종합병원</td>\n",
       "      <td>237</td>\n",
       "      <td>26448</td>\n",
       "      <td>강원도 원주시 서원대로 387(개운동)</td>\n",
       "      <td>www.kwmc.or.kr</td>\n",
       "      <td>033-760-4500</td>\n",
       "      <td>033-761-5121</td>\n",
       "      <td>NaN</td>\n",
       "    </tr>\n",
       "    <tr>\n",
       "      <th>5</th>\n",
       "      <td>강원도 강릉의료원</td>\n",
       "      <td>특수법인</td>\n",
       "      <td>지방의료원의 설립 및 운영에 관한 법률</td>\n",
       "      <td>보건복지부(강원도)</td>\n",
       "      <td>지방의료원</td>\n",
       "      <td>32100159</td>\n",
       "      <td>종합병원</td>\n",
       "      <td>137</td>\n",
       "      <td>25535</td>\n",
       "      <td>강원도 강릉시 경강로 2007(남문동 164-1)</td>\n",
       "      <td>http://www.gnmc.or.kr</td>\n",
       "      <td>033-646-6910</td>\n",
       "      <td>033-610-1415</td>\n",
       "      <td>NaN</td>\n",
       "    </tr>\n",
       "  </tbody>\n",
       "</table>\n",
       "</div>"
      ],
      "text/plain": [
       "         병원 명  설립형태                  근거 법령     관계 행정기관 관계 공공단체  심평원 요양기관번호  \\\n",
       "연번                                                                           \n",
       "1    강원도 재활병원   시도립      강원도재활병원설치및운영에관한조례         강원도    해당없음    32200641   \n",
       "2   강원도 삼척의료원  특수법인  지방의료원의 설립 및 운영에 관한 법률  보건복지부(강원도)   지방의료원    32100060   \n",
       "3   강원도 영월의료원  특수법인  지방의료원의 설립 및 운영에 관한 법률  보건복지부(강원도)   지방의료원    32100078   \n",
       "4   강원도 원주의료원  특수법인  지방의료원의 설립 및 운영에 관한 법률  보건복지부(강원도)   지방의료원    32100086   \n",
       "5   강원도 강릉의료원  특수법인  지방의료원의 설립 및 운영에 관한 법률  보건복지부(강원도)   지방의료원    32100159   \n",
       "\n",
       "    종별구분  병상수 소재지 우편번호                           주소                     홈페이지  \\\n",
       "연번                                                                             \n",
       "1     병원  165    24227      강원도 춘천시 충열로 142번길 24-16            www.grh.or.kr   \n",
       "2   종합병원  152    25920             강원도 삼척시 오십천로 418        http://ksmc.or.kr   \n",
       "3   종합병원  214    26234          강원도 영월군 영월읍 중앙1로 59  http://www.youngwol.org   \n",
       "4   종합병원  237    26448        강원도 원주시 서원대로 387(개운동)           www.kwmc.or.kr   \n",
       "5   종합병원  137    25535  강원도 강릉시 경강로 2007(남문동 164-1)    http://www.gnmc.or.kr   \n",
       "\n",
       "            대표전화           FAX   비고  \n",
       "연번                                   \n",
       "1   033-248-7700  033-248-7723  NaN  \n",
       "2   033-572-1141  033-573-8424  NaN  \n",
       "3   033-370-9117  033-370-9137  NaN  \n",
       "4   033-760-4500  033-761-5121  NaN  \n",
       "5   033-646-6910  033-610-1415  NaN  "
      ]
     },
     "execution_count": 186,
     "metadata": {},
     "output_type": "execute_result"
    }
   ],
   "source": [
    "# pandas error, warning 무시 옵션 설정\n",
    "# pd.set_option('mode.chained_assignment', None)\n",
    "\n",
    "# .csv 파일 가져오기\n",
    "data = pd.read_csv('./20161231.csv', index_col=0, encoding='cp949', engine='python')\n",
    "\n",
    "# data 객체의 상위 다섯 개 행의 데이터 출력\n",
    "data.head()"
   ]
  },
  {
   "cell_type": "code",
   "execution_count": 187,
   "id": "343d78e9",
   "metadata": {},
   "outputs": [
    {
     "data": {
      "text/html": [
       "<div>\n",
       "<style scoped>\n",
       "    .dataframe tbody tr th:only-of-type {\n",
       "        vertical-align: middle;\n",
       "    }\n",
       "\n",
       "    .dataframe tbody tr th {\n",
       "        vertical-align: top;\n",
       "    }\n",
       "\n",
       "    .dataframe thead th {\n",
       "        text-align: right;\n",
       "    }\n",
       "</style>\n",
       "<table border=\"1\" class=\"dataframe\">\n",
       "  <thead>\n",
       "    <tr style=\"text-align: right;\">\n",
       "      <th></th>\n",
       "      <th>시도</th>\n",
       "      <th>군구</th>\n",
       "    </tr>\n",
       "  </thead>\n",
       "  <tbody>\n",
       "    <tr>\n",
       "      <th>0</th>\n",
       "      <td>강원도</td>\n",
       "      <td>춘천시</td>\n",
       "    </tr>\n",
       "    <tr>\n",
       "      <th>1</th>\n",
       "      <td>강원도</td>\n",
       "      <td>삼척시</td>\n",
       "    </tr>\n",
       "    <tr>\n",
       "      <th>2</th>\n",
       "      <td>강원도</td>\n",
       "      <td>영월군</td>\n",
       "    </tr>\n",
       "    <tr>\n",
       "      <th>3</th>\n",
       "      <td>강원도</td>\n",
       "      <td>원주시</td>\n",
       "    </tr>\n",
       "    <tr>\n",
       "      <th>4</th>\n",
       "      <td>강원도</td>\n",
       "      <td>강릉시</td>\n",
       "    </tr>\n",
       "  </tbody>\n",
       "</table>\n",
       "</div>"
      ],
      "text/plain": [
       "    시도   군구\n",
       "0  강원도  춘천시\n",
       "1  강원도  삼척시\n",
       "2  강원도  영월군\n",
       "3  강원도  원주시\n",
       "4  강원도  강릉시"
      ]
     },
     "execution_count": 187,
     "metadata": {},
     "output_type": "execute_result"
    }
   ],
   "source": [
    "# 주소에서 시도, 군구 정보 분리\n",
    "# apply() 함수는 데이터프레임의 행 또는 열 또는 전체 셀에 원하는 연산\n",
    "addr = pd.DataFrame(data['주소'].apply(lambda v: v.split()[:2]).tolist(), columns = ('시도', '군구'))\n",
    "\n",
    "addr.head()"
   ]
  },
  {
   "cell_type": "code",
   "execution_count": 188,
   "id": "85091771",
   "metadata": {},
   "outputs": [
    {
     "data": {
      "text/plain": [
       "array(['강원도', '경기도', '경기', '경남', '창원시', '경상남도', '경상북도', '경산시', '경북',\n",
       "       '인천광역시', '대구광역시', '전라남도', '대전광역시', '광주광역시', '제주특별자치도', '부산광역시',\n",
       "       '전라북도', '충북', '서울특별시', '서울시', '부산특별시', '대전시', '충남', '전남', '충청남도',\n",
       "       '울산광역시', '전북', '천안시', '충청북도'], dtype=object)"
      ]
     },
     "execution_count": 188,
     "metadata": {},
     "output_type": "execute_result"
    }
   ],
   "source": [
    "# 시도 이름에서 잘못된 내용이 있는지 확인하기 위해 시도 이름의 유일한 값을 출력하여 확인함\n",
    "addr['시도'].unique()"
   ]
  },
  {
   "cell_type": "code",
   "execution_count": 189,
   "id": "10e17bda",
   "metadata": {},
   "outputs": [
    {
     "data": {
      "text/html": [
       "<div>\n",
       "<style scoped>\n",
       "    .dataframe tbody tr th:only-of-type {\n",
       "        vertical-align: middle;\n",
       "    }\n",
       "\n",
       "    .dataframe tbody tr th {\n",
       "        vertical-align: top;\n",
       "    }\n",
       "\n",
       "    .dataframe thead th {\n",
       "        text-align: right;\n",
       "    }\n",
       "</style>\n",
       "<table border=\"1\" class=\"dataframe\">\n",
       "  <thead>\n",
       "    <tr style=\"text-align: right;\">\n",
       "      <th></th>\n",
       "      <th>시도</th>\n",
       "      <th>군구</th>\n",
       "    </tr>\n",
       "  </thead>\n",
       "  <tbody>\n",
       "    <tr>\n",
       "      <th>27</th>\n",
       "      <td>창원시</td>\n",
       "      <td>의창구</td>\n",
       "    </tr>\n",
       "    <tr>\n",
       "      <th>31</th>\n",
       "      <td>창원시</td>\n",
       "      <td>마산합포구3.15대로</td>\n",
       "    </tr>\n",
       "  </tbody>\n",
       "</table>\n",
       "</div>"
      ],
      "text/plain": [
       "     시도           군구\n",
       "27  창원시          의창구\n",
       "31  창원시  마산합포구3.15대로"
      ]
     },
     "execution_count": 189,
     "metadata": {},
     "output_type": "execute_result"
    }
   ],
   "source": [
    "# 시도가 아닌 군구에 해당하는 정보를 수정하기\n",
    "addr[addr['시도'] == '창원시']"
   ]
  },
  {
   "cell_type": "code",
   "execution_count": 190,
   "id": "b1ae1c9b",
   "metadata": {},
   "outputs": [],
   "source": [
    "# .iloc[] 데이터프레임의 행이나 컬럼의 인덱스 값으로 접근\n",
    "addr.iloc[27] = ['경상남도', '창원시']\n",
    "addr.iloc[31] = ['경상남도', '창원시']"
   ]
  },
  {
   "cell_type": "code",
   "execution_count": 191,
   "id": "7647854f",
   "metadata": {},
   "outputs": [
    {
     "data": {
      "text/plain": [
       "시도    경상남도\n",
       "군구     창원시\n",
       "Name: 27, dtype: object"
      ]
     },
     "execution_count": 191,
     "metadata": {},
     "output_type": "execute_result"
    }
   ],
   "source": [
    "addr.iloc[27]"
   ]
  },
  {
   "cell_type": "code",
   "execution_count": 192,
   "id": "90aae393",
   "metadata": {},
   "outputs": [
    {
     "data": {
      "text/plain": [
       "시도    경상남도\n",
       "군구     창원시\n",
       "Name: 31, dtype: object"
      ]
     },
     "execution_count": 192,
     "metadata": {},
     "output_type": "execute_result"
    }
   ],
   "source": [
    "addr.iloc[31]"
   ]
  },
  {
   "cell_type": "code",
   "execution_count": 193,
   "id": "e3b2f251",
   "metadata": {},
   "outputs": [
    {
     "data": {
      "text/html": [
       "<div>\n",
       "<style scoped>\n",
       "    .dataframe tbody tr th:only-of-type {\n",
       "        vertical-align: middle;\n",
       "    }\n",
       "\n",
       "    .dataframe tbody tr th {\n",
       "        vertical-align: top;\n",
       "    }\n",
       "\n",
       "    .dataframe thead th {\n",
       "        text-align: right;\n",
       "    }\n",
       "</style>\n",
       "<table border=\"1\" class=\"dataframe\">\n",
       "  <thead>\n",
       "    <tr style=\"text-align: right;\">\n",
       "      <th></th>\n",
       "      <th>시도</th>\n",
       "      <th>군구</th>\n",
       "    </tr>\n",
       "  </thead>\n",
       "  <tbody>\n",
       "    <tr>\n",
       "      <th>47</th>\n",
       "      <td>경산시</td>\n",
       "      <td>경안로</td>\n",
       "    </tr>\n",
       "  </tbody>\n",
       "</table>\n",
       "</div>"
      ],
      "text/plain": [
       "     시도   군구\n",
       "47  경산시  경안로"
      ]
     },
     "execution_count": 193,
     "metadata": {},
     "output_type": "execute_result"
    }
   ],
   "source": [
    "addr[addr['시도'] == '경산시']"
   ]
  },
  {
   "cell_type": "code",
   "execution_count": 194,
   "id": "d5c75519",
   "metadata": {},
   "outputs": [],
   "source": [
    "addr.iloc[47] = ['경상북도', '경산시']"
   ]
  },
  {
   "cell_type": "code",
   "execution_count": 195,
   "id": "f204f5c2",
   "metadata": {},
   "outputs": [
    {
     "data": {
      "text/plain": [
       "시도    경상북도\n",
       "군구     경산시\n",
       "Name: 47, dtype: object"
      ]
     },
     "execution_count": 195,
     "metadata": {},
     "output_type": "execute_result"
    }
   ],
   "source": [
    "addr.iloc[47]"
   ]
  },
  {
   "cell_type": "code",
   "execution_count": 196,
   "id": "3715db98",
   "metadata": {},
   "outputs": [
    {
     "data": {
      "text/html": [
       "<div>\n",
       "<style scoped>\n",
       "    .dataframe tbody tr th:only-of-type {\n",
       "        vertical-align: middle;\n",
       "    }\n",
       "\n",
       "    .dataframe tbody tr th {\n",
       "        vertical-align: top;\n",
       "    }\n",
       "\n",
       "    .dataframe thead th {\n",
       "        text-align: right;\n",
       "    }\n",
       "</style>\n",
       "<table border=\"1\" class=\"dataframe\">\n",
       "  <thead>\n",
       "    <tr style=\"text-align: right;\">\n",
       "      <th></th>\n",
       "      <th>시도</th>\n",
       "      <th>군구</th>\n",
       "    </tr>\n",
       "  </thead>\n",
       "  <tbody>\n",
       "    <tr>\n",
       "      <th>209</th>\n",
       "      <td>천안시</td>\n",
       "      <td>동남구</td>\n",
       "    </tr>\n",
       "    <tr>\n",
       "      <th>210</th>\n",
       "      <td>천안시</td>\n",
       "      <td>동남구</td>\n",
       "    </tr>\n",
       "  </tbody>\n",
       "</table>\n",
       "</div>"
      ],
      "text/plain": [
       "      시도   군구\n",
       "209  천안시  동남구\n",
       "210  천안시  동남구"
      ]
     },
     "execution_count": 196,
     "metadata": {},
     "output_type": "execute_result"
    }
   ],
   "source": [
    "addr[addr['시도'] == '천안시']"
   ]
  },
  {
   "cell_type": "code",
   "execution_count": 197,
   "id": "0ab145fb",
   "metadata": {},
   "outputs": [],
   "source": [
    "addr.iloc[209] = ['충청남도', '천안시']\n",
    "addr.iloc[210] = ['충청남도', '천안시']"
   ]
  },
  {
   "cell_type": "code",
   "execution_count": 198,
   "id": "10078f6a",
   "metadata": {},
   "outputs": [
    {
     "data": {
      "text/plain": [
       "시도    충청남도\n",
       "군구     천안시\n",
       "Name: 209, dtype: object"
      ]
     },
     "execution_count": 198,
     "metadata": {},
     "output_type": "execute_result"
    }
   ],
   "source": [
    "addr.iloc[209]"
   ]
  },
  {
   "cell_type": "code",
   "execution_count": 199,
   "id": "25e46ca7",
   "metadata": {},
   "outputs": [
    {
     "data": {
      "text/plain": [
       "시도    충청남도\n",
       "군구     천안시\n",
       "Name: 210, dtype: object"
      ]
     },
     "execution_count": 199,
     "metadata": {},
     "output_type": "execute_result"
    }
   ],
   "source": [
    "addr.iloc[210]"
   ]
  },
  {
   "cell_type": "code",
   "execution_count": 200,
   "id": "a084c74a",
   "metadata": {},
   "outputs": [
    {
     "data": {
      "text/plain": [
       "array(['강원도', '경기도', '경기', '경남', '경상남도', '경상북도', '경북', '인천광역시', '대구광역시',\n",
       "       '전라남도', '대전광역시', '광주광역시', '제주특별자치도', '부산광역시', '전라북도', '충북',\n",
       "       '서울특별시', '서울시', '부산특별시', '대전시', '충남', '전남', '충청남도', '울산광역시', '전북',\n",
       "       '충청북도'], dtype=object)"
      ]
     },
     "execution_count": 200,
     "metadata": {},
     "output_type": "execute_result"
    }
   ],
   "source": [
    "addr['시도'].unique()"
   ]
  },
  {
   "cell_type": "code",
   "execution_count": 201,
   "id": "70cd4ac8",
   "metadata": {},
   "outputs": [
    {
     "data": {
      "text/plain": [
       "array(['강원도', '경기도', '경상남도', '경상북도', '인천광역시', '대구광역시', '전라남도', '대전광역시',\n",
       "       '광주광역시', '제주특별자치도', '부산광역시', '전라북도', '충청북도', '서울특별시', '충청남도',\n",
       "       '울산광역시'], dtype=object)"
      ]
     },
     "execution_count": 201,
     "metadata": {},
     "output_type": "execute_result"
    }
   ],
   "source": [
    "# 축약된 이름을 정확한 이름으로 변경하기\n",
    "# 딕셔너리로 만들어서 키에 해당하는 값을 가져오기\n",
    "addr_aliases = {'경기':'경기도', '경남':'경상남도', '경북':'경상북도', '충북':'충청북도', '서울시':'서울특별시', '부산특별시':'부산광역시', '대전시':'대전광역시', '충남':'충청남도', '전남':'전라남도', '전북':'전라북도'}\n",
    "addr['시도'] = addr['시도'].apply(lambda v: addr_aliases.get(v, v))\n",
    "addr['시도'].unique()"
   ]
  },
  {
   "cell_type": "code",
   "execution_count": 202,
   "id": "7def62c6",
   "metadata": {},
   "outputs": [
    {
     "data": {
      "text/plain": [
       "array(['춘천시', '삼척시', '영월군', '원주시', '강릉시', '속초시', '정선군', '수원시', '이천시',\n",
       "       '안성시', '의정부시', '포천시', '파주시', '용인시', '평택시', '시흥시', '여주시', '남양주시',\n",
       "       '동두천시', '안산시', '부천시', '통영시', '사천시', '창원시', '김해시', '양산시', '거창군',\n",
       "       '남해군', '의령군', '포항시', '김천시', '안동시', '울진군', '경주시', '구미시', '영주시',\n",
       "       '상주시', '문경시', '경산시', '의성군', '청도군', '고령군', '칠곡군', '봉화군', '울릉군',\n",
       "       '부평구', '북구', '순천시', '대덕구', '태백시', '동해시', '화성시', '광산구', '남구', '중구',\n",
       "       '아란13길', '서구', '전주시', '진주시', '청주시', '종로구', '성남시', '동구', '화순군',\n",
       "       '강동구', '사상구', '달서구', '해운대구', '유성구', '가평군', '양주시', '고양시', '홍천군',\n",
       "       '양구군', '청원군', '계룡시', '논산시', '함평군', '양평군', '수성구', '달성군', '연수구',\n",
       "       '노원구', '기장군', '공주시', '강북구', '광진구', '나주시', '창녕군', '목포시', '고흥군',\n",
       "       '연제구', '동매로', '서초구', '은평구', '중랑구', '강남구', '동작구', '동대문구', '양천구',\n",
       "       '성동구', '송파구', '울주군', '계양구', '옹진군', '보성군', '광양시', '영광군', '무안군',\n",
       "       '진도군', '강진군', '곡성군', '여수시', '신안군', '장성군', '완주군', '부안군', '정읍시',\n",
       "       '남원시', '군산시', '고창군', '진안군', '제주시', '서귀포시', '천안시', '보령시', '서산시',\n",
       "       '서천군', '홍성군', '제천시', '충주시', '영동군', '단양군'], dtype=object)"
      ]
     },
     "execution_count": 202,
     "metadata": {},
     "output_type": "execute_result"
    }
   ],
   "source": [
    "addr['군구'].unique()"
   ]
  },
  {
   "cell_type": "code",
   "execution_count": 203,
   "id": "7f460441",
   "metadata": {},
   "outputs": [
    {
     "data": {
      "text/html": [
       "<div>\n",
       "<style scoped>\n",
       "    .dataframe tbody tr th:only-of-type {\n",
       "        vertical-align: middle;\n",
       "    }\n",
       "\n",
       "    .dataframe tbody tr th {\n",
       "        vertical-align: top;\n",
       "    }\n",
       "\n",
       "    .dataframe thead th {\n",
       "        text-align: right;\n",
       "    }\n",
       "</style>\n",
       "<table border=\"1\" class=\"dataframe\">\n",
       "  <thead>\n",
       "    <tr style=\"text-align: right;\">\n",
       "      <th></th>\n",
       "      <th>시도</th>\n",
       "      <th>군구</th>\n",
       "    </tr>\n",
       "  </thead>\n",
       "  <tbody>\n",
       "    <tr>\n",
       "      <th>75</th>\n",
       "      <td>제주특별자치도</td>\n",
       "      <td>아란13길</td>\n",
       "    </tr>\n",
       "  </tbody>\n",
       "</table>\n",
       "</div>"
      ],
      "text/plain": [
       "         시도     군구\n",
       "75  제주특별자치도  아란13길"
      ]
     },
     "execution_count": 203,
     "metadata": {},
     "output_type": "execute_result"
    }
   ],
   "source": [
    "addr[addr['군구'] == '아란13길']"
   ]
  },
  {
   "cell_type": "code",
   "execution_count": 204,
   "id": "e6659733",
   "metadata": {},
   "outputs": [],
   "source": [
    "addr.iloc[75] = ['제주특별자치도', '제주시']"
   ]
  },
  {
   "cell_type": "code",
   "execution_count": 205,
   "id": "988aa384",
   "metadata": {},
   "outputs": [
    {
     "data": {
      "text/plain": [
       "시도    제주특별자치도\n",
       "군구        제주시\n",
       "Name: 75, dtype: object"
      ]
     },
     "execution_count": 205,
     "metadata": {},
     "output_type": "execute_result"
    }
   ],
   "source": [
    "addr.iloc[75]"
   ]
  },
  {
   "cell_type": "code",
   "execution_count": 206,
   "id": "f8e15003",
   "metadata": {},
   "outputs": [
    {
     "data": {
      "text/html": [
       "<div>\n",
       "<style scoped>\n",
       "    .dataframe tbody tr th:only-of-type {\n",
       "        vertical-align: middle;\n",
       "    }\n",
       "\n",
       "    .dataframe tbody tr th {\n",
       "        vertical-align: top;\n",
       "    }\n",
       "\n",
       "    .dataframe thead th {\n",
       "        text-align: right;\n",
       "    }\n",
       "</style>\n",
       "<table border=\"1\" class=\"dataframe\">\n",
       "  <thead>\n",
       "    <tr style=\"text-align: right;\">\n",
       "      <th></th>\n",
       "      <th>시도</th>\n",
       "      <th>군구</th>\n",
       "      <th>시도군구</th>\n",
       "    </tr>\n",
       "  </thead>\n",
       "  <tbody>\n",
       "    <tr>\n",
       "      <th>0</th>\n",
       "      <td>강원도</td>\n",
       "      <td>춘천시</td>\n",
       "      <td>강원도 춘천시</td>\n",
       "    </tr>\n",
       "    <tr>\n",
       "      <th>1</th>\n",
       "      <td>강원도</td>\n",
       "      <td>삼척시</td>\n",
       "      <td>강원도 삼척시</td>\n",
       "    </tr>\n",
       "    <tr>\n",
       "      <th>2</th>\n",
       "      <td>강원도</td>\n",
       "      <td>영월군</td>\n",
       "      <td>강원도 영월군</td>\n",
       "    </tr>\n",
       "    <tr>\n",
       "      <th>3</th>\n",
       "      <td>강원도</td>\n",
       "      <td>원주시</td>\n",
       "      <td>강원도 원주시</td>\n",
       "    </tr>\n",
       "    <tr>\n",
       "      <th>4</th>\n",
       "      <td>강원도</td>\n",
       "      <td>강릉시</td>\n",
       "      <td>강원도 강릉시</td>\n",
       "    </tr>\n",
       "  </tbody>\n",
       "</table>\n",
       "</div>"
      ],
      "text/plain": [
       "    시도   군구     시도군구\n",
       "0  강원도  춘천시  강원도 춘천시\n",
       "1  강원도  삼척시  강원도 삼척시\n",
       "2  강원도  영월군  강원도 영월군\n",
       "3  강원도  원주시  강원도 원주시\n",
       "4  강원도  강릉시  강원도 강릉시"
      ]
     },
     "execution_count": 206,
     "metadata": {},
     "output_type": "execute_result"
    }
   ],
   "source": [
    "# 행정구역별 공공보건의료기관 수 구하기\n",
    "# 행 단위로 집계하기 위해 axis = 1 로 설정\n",
    "addr['시도군구'] = addr.apply(lambda r: r['시도'] + ' ' + r['군구'], axis = 1)\n",
    "addr.head()"
   ]
  },
  {
   "cell_type": "code",
   "execution_count": 207,
   "id": "a69cf06b",
   "metadata": {},
   "outputs": [
    {
     "data": {
      "text/html": [
       "<div>\n",
       "<style scoped>\n",
       "    .dataframe tbody tr th:only-of-type {\n",
       "        vertical-align: middle;\n",
       "    }\n",
       "\n",
       "    .dataframe tbody tr th {\n",
       "        vertical-align: top;\n",
       "    }\n",
       "\n",
       "    .dataframe thead th {\n",
       "        text-align: right;\n",
       "    }\n",
       "</style>\n",
       "<table border=\"1\" class=\"dataframe\">\n",
       "  <thead>\n",
       "    <tr style=\"text-align: right;\">\n",
       "      <th></th>\n",
       "      <th>시도</th>\n",
       "      <th>군구</th>\n",
       "      <th>시도군구</th>\n",
       "      <th>count</th>\n",
       "    </tr>\n",
       "  </thead>\n",
       "  <tbody>\n",
       "    <tr>\n",
       "      <th>0</th>\n",
       "      <td>강원도</td>\n",
       "      <td>춘천시</td>\n",
       "      <td>강원도 춘천시</td>\n",
       "      <td>0</td>\n",
       "    </tr>\n",
       "    <tr>\n",
       "      <th>1</th>\n",
       "      <td>강원도</td>\n",
       "      <td>삼척시</td>\n",
       "      <td>강원도 삼척시</td>\n",
       "      <td>0</td>\n",
       "    </tr>\n",
       "    <tr>\n",
       "      <th>2</th>\n",
       "      <td>강원도</td>\n",
       "      <td>영월군</td>\n",
       "      <td>강원도 영월군</td>\n",
       "      <td>0</td>\n",
       "    </tr>\n",
       "    <tr>\n",
       "      <th>3</th>\n",
       "      <td>강원도</td>\n",
       "      <td>원주시</td>\n",
       "      <td>강원도 원주시</td>\n",
       "      <td>0</td>\n",
       "    </tr>\n",
       "    <tr>\n",
       "      <th>4</th>\n",
       "      <td>강원도</td>\n",
       "      <td>강릉시</td>\n",
       "      <td>강원도 강릉시</td>\n",
       "      <td>0</td>\n",
       "    </tr>\n",
       "  </tbody>\n",
       "</table>\n",
       "</div>"
      ],
      "text/plain": [
       "    시도   군구     시도군구  count\n",
       "0  강원도  춘천시  강원도 춘천시      0\n",
       "1  강원도  삼척시  강원도 삼척시      0\n",
       "2  강원도  영월군  강원도 영월군      0\n",
       "3  강원도  원주시  강원도 원주시      0\n",
       "4  강원도  강릉시  강원도 강릉시      0"
      ]
     },
     "execution_count": 207,
     "metadata": {},
     "output_type": "execute_result"
    }
   ],
   "source": [
    "# count 열 만들기\n",
    "addr['count'] = 0\n",
    "addr.head()"
   ]
  },
  {
   "cell_type": "code",
   "execution_count": 208,
   "id": "6b56361f",
   "metadata": {},
   "outputs": [
    {
     "data": {
      "text/html": [
       "<div>\n",
       "<style scoped>\n",
       "    .dataframe tbody tr th:only-of-type {\n",
       "        vertical-align: middle;\n",
       "    }\n",
       "\n",
       "    .dataframe tbody tr th {\n",
       "        vertical-align: top;\n",
       "    }\n",
       "\n",
       "    .dataframe thead th {\n",
       "        text-align: right;\n",
       "    }\n",
       "</style>\n",
       "<table border=\"1\" class=\"dataframe\">\n",
       "  <thead>\n",
       "    <tr style=\"text-align: right;\">\n",
       "      <th></th>\n",
       "      <th>시도</th>\n",
       "      <th>군구</th>\n",
       "      <th>시도군구</th>\n",
       "      <th>count</th>\n",
       "    </tr>\n",
       "  </thead>\n",
       "  <tbody>\n",
       "    <tr>\n",
       "      <th>0</th>\n",
       "      <td>강원도</td>\n",
       "      <td>강릉시</td>\n",
       "      <td>강원도 강릉시</td>\n",
       "      <td>4</td>\n",
       "    </tr>\n",
       "    <tr>\n",
       "      <th>1</th>\n",
       "      <td>강원도</td>\n",
       "      <td>동해시</td>\n",
       "      <td>강원도 동해시</td>\n",
       "      <td>1</td>\n",
       "    </tr>\n",
       "    <tr>\n",
       "      <th>2</th>\n",
       "      <td>강원도</td>\n",
       "      <td>삼척시</td>\n",
       "      <td>강원도 삼척시</td>\n",
       "      <td>1</td>\n",
       "    </tr>\n",
       "    <tr>\n",
       "      <th>3</th>\n",
       "      <td>강원도</td>\n",
       "      <td>속초시</td>\n",
       "      <td>강원도 속초시</td>\n",
       "      <td>1</td>\n",
       "    </tr>\n",
       "    <tr>\n",
       "      <th>4</th>\n",
       "      <td>강원도</td>\n",
       "      <td>양구군</td>\n",
       "      <td>강원도 양구군</td>\n",
       "      <td>1</td>\n",
       "    </tr>\n",
       "  </tbody>\n",
       "</table>\n",
       "</div>"
      ],
      "text/plain": [
       "    시도   군구     시도군구  count\n",
       "0  강원도  강릉시  강원도 강릉시      4\n",
       "1  강원도  동해시  강원도 동해시      1\n",
       "2  강원도  삼척시  강원도 삼척시      1\n",
       "3  강원도  속초시  강원도 속초시      1\n",
       "4  강원도  양구군  강원도 양구군      1"
      ]
     },
     "execution_count": 208,
     "metadata": {},
     "output_type": "execute_result"
    }
   ],
   "source": [
    "# groupby 로 지역 그룹별 집계내기\n",
    "addr_group = pd.DataFrame(addr.groupby(['시도', '군구', '시도군구'], as_index = False).count())\n",
    "addr_group.head()"
   ]
  },
  {
   "cell_type": "code",
   "execution_count": 209,
   "id": "d00e6216",
   "metadata": {},
   "outputs": [
    {
     "data": {
      "text/html": [
       "<div>\n",
       "<style scoped>\n",
       "    .dataframe tbody tr th:only-of-type {\n",
       "        vertical-align: middle;\n",
       "    }\n",
       "\n",
       "    .dataframe tbody tr th {\n",
       "        vertical-align: top;\n",
       "    }\n",
       "\n",
       "    .dataframe thead th {\n",
       "        text-align: right;\n",
       "    }\n",
       "</style>\n",
       "<table border=\"1\" class=\"dataframe\">\n",
       "  <thead>\n",
       "    <tr style=\"text-align: right;\">\n",
       "      <th></th>\n",
       "      <th>시도</th>\n",
       "      <th>군구</th>\n",
       "      <th>count</th>\n",
       "    </tr>\n",
       "    <tr>\n",
       "      <th>시도군구</th>\n",
       "      <th></th>\n",
       "      <th></th>\n",
       "      <th></th>\n",
       "    </tr>\n",
       "  </thead>\n",
       "  <tbody>\n",
       "    <tr>\n",
       "      <th>강원도 강릉시</th>\n",
       "      <td>강원도</td>\n",
       "      <td>강릉시</td>\n",
       "      <td>4</td>\n",
       "    </tr>\n",
       "    <tr>\n",
       "      <th>강원도 동해시</th>\n",
       "      <td>강원도</td>\n",
       "      <td>동해시</td>\n",
       "      <td>1</td>\n",
       "    </tr>\n",
       "    <tr>\n",
       "      <th>강원도 삼척시</th>\n",
       "      <td>강원도</td>\n",
       "      <td>삼척시</td>\n",
       "      <td>1</td>\n",
       "    </tr>\n",
       "    <tr>\n",
       "      <th>강원도 속초시</th>\n",
       "      <td>강원도</td>\n",
       "      <td>속초시</td>\n",
       "      <td>1</td>\n",
       "    </tr>\n",
       "    <tr>\n",
       "      <th>강원도 양구군</th>\n",
       "      <td>강원도</td>\n",
       "      <td>양구군</td>\n",
       "      <td>1</td>\n",
       "    </tr>\n",
       "  </tbody>\n",
       "</table>\n",
       "</div>"
      ],
      "text/plain": [
       "          시도   군구  count\n",
       "시도군구                    \n",
       "강원도 강릉시  강원도  강릉시      4\n",
       "강원도 동해시  강원도  동해시      1\n",
       "강원도 삼척시  강원도  삼척시      1\n",
       "강원도 속초시  강원도  속초시      1\n",
       "강원도 양구군  강원도  양구군      1"
      ]
     },
     "execution_count": 209,
     "metadata": {},
     "output_type": "execute_result"
    }
   ],
   "source": [
    "# 인덱스를 시도군구로 변경\n",
    "addr_group = addr_group.set_index('시도군구')\n",
    "addr_group.head()"
   ]
  },
  {
   "cell_type": "code",
   "execution_count": 210,
   "id": "620a8a3f",
   "metadata": {},
   "outputs": [
    {
     "data": {
      "text/html": [
       "<div>\n",
       "<style scoped>\n",
       "    .dataframe tbody tr th:only-of-type {\n",
       "        vertical-align: middle;\n",
       "    }\n",
       "\n",
       "    .dataframe tbody tr th {\n",
       "        vertical-align: top;\n",
       "    }\n",
       "\n",
       "    .dataframe thead th {\n",
       "        text-align: right;\n",
       "    }\n",
       "</style>\n",
       "<table border=\"1\" class=\"dataframe\">\n",
       "  <thead>\n",
       "    <tr style=\"text-align: right;\">\n",
       "      <th></th>\n",
       "      <th>시도</th>\n",
       "      <th>군구</th>\n",
       "      <th>총인구수</th>\n",
       "      <th>남자인구수</th>\n",
       "      <th>여자인구수</th>\n",
       "      <th>시도군구</th>\n",
       "    </tr>\n",
       "  </thead>\n",
       "  <tbody>\n",
       "    <tr>\n",
       "      <th>0</th>\n",
       "      <td>전국</td>\n",
       "      <td>소계</td>\n",
       "      <td>51578178</td>\n",
       "      <td>25711784</td>\n",
       "      <td>25866394</td>\n",
       "      <td>전국 소계</td>\n",
       "    </tr>\n",
       "    <tr>\n",
       "      <th>1</th>\n",
       "      <td>서울특별시</td>\n",
       "      <td>소계</td>\n",
       "      <td>9494807</td>\n",
       "      <td>4605655</td>\n",
       "      <td>4889152</td>\n",
       "      <td>서울특별시 소계</td>\n",
       "    </tr>\n",
       "    <tr>\n",
       "      <th>2</th>\n",
       "      <td>서울특별시</td>\n",
       "      <td>종로구</td>\n",
       "      <td>143624</td>\n",
       "      <td>69513</td>\n",
       "      <td>74111</td>\n",
       "      <td>서울특별시 종로구</td>\n",
       "    </tr>\n",
       "    <tr>\n",
       "      <th>3</th>\n",
       "      <td>서울특별시</td>\n",
       "      <td>중구</td>\n",
       "      <td>122088</td>\n",
       "      <td>59364</td>\n",
       "      <td>62724</td>\n",
       "      <td>서울특별시 중구</td>\n",
       "    </tr>\n",
       "    <tr>\n",
       "      <th>4</th>\n",
       "      <td>서울특별시</td>\n",
       "      <td>용산구</td>\n",
       "      <td>222263</td>\n",
       "      <td>106743</td>\n",
       "      <td>115520</td>\n",
       "      <td>서울특별시 용산구</td>\n",
       "    </tr>\n",
       "  </tbody>\n",
       "</table>\n",
       "</div>"
      ],
      "text/plain": [
       "      시도   군구      총인구수     남자인구수     여자인구수       시도군구\n",
       "0     전국   소계  51578178  25711784  25866394      전국 소계\n",
       "1  서울특별시   소계   9494807   4605655   4889152   서울특별시 소계\n",
       "2  서울특별시  종로구    143624     69513     74111  서울특별시 종로구\n",
       "3  서울특별시   중구    122088     59364     62724   서울특별시 중구\n",
       "4  서울특별시  용산구    222263    106743    115520  서울특별시 용산구"
      ]
     },
     "execution_count": 210,
     "metadata": {},
     "output_type": "execute_result"
    }
   ],
   "source": [
    "# 시도군구 컬럼 만들기\n",
    "popul['시도군구'] = popul.apply(lambda r: r['시도'] + ' ' + r['군구'], axis=1)\n",
    "\n",
    "popul.head()"
   ]
  },
  {
   "cell_type": "code",
   "execution_count": 211,
   "id": "36a3880e",
   "metadata": {},
   "outputs": [
    {
     "data": {
      "text/html": [
       "<div>\n",
       "<style scoped>\n",
       "    .dataframe tbody tr th:only-of-type {\n",
       "        vertical-align: middle;\n",
       "    }\n",
       "\n",
       "    .dataframe tbody tr th {\n",
       "        vertical-align: top;\n",
       "    }\n",
       "\n",
       "    .dataframe thead th {\n",
       "        text-align: right;\n",
       "    }\n",
       "</style>\n",
       "<table border=\"1\" class=\"dataframe\">\n",
       "  <thead>\n",
       "    <tr style=\"text-align: right;\">\n",
       "      <th></th>\n",
       "      <th>시도</th>\n",
       "      <th>군구</th>\n",
       "      <th>총인구수</th>\n",
       "      <th>남자인구수</th>\n",
       "      <th>여자인구수</th>\n",
       "    </tr>\n",
       "    <tr>\n",
       "      <th>시도군구</th>\n",
       "      <th></th>\n",
       "      <th></th>\n",
       "      <th></th>\n",
       "      <th></th>\n",
       "      <th></th>\n",
       "    </tr>\n",
       "  </thead>\n",
       "  <tbody>\n",
       "    <tr>\n",
       "      <th>서울특별시 종로구</th>\n",
       "      <td>서울특별시</td>\n",
       "      <td>종로구</td>\n",
       "      <td>143624</td>\n",
       "      <td>69513</td>\n",
       "      <td>74111</td>\n",
       "    </tr>\n",
       "    <tr>\n",
       "      <th>서울특별시 중구</th>\n",
       "      <td>서울특별시</td>\n",
       "      <td>중구</td>\n",
       "      <td>122088</td>\n",
       "      <td>59364</td>\n",
       "      <td>62724</td>\n",
       "    </tr>\n",
       "    <tr>\n",
       "      <th>서울특별시 용산구</th>\n",
       "      <td>서울특별시</td>\n",
       "      <td>용산구</td>\n",
       "      <td>222263</td>\n",
       "      <td>106743</td>\n",
       "      <td>115520</td>\n",
       "    </tr>\n",
       "    <tr>\n",
       "      <th>서울특별시 성동구</th>\n",
       "      <td>서울특별시</td>\n",
       "      <td>성동구</td>\n",
       "      <td>283821</td>\n",
       "      <td>138162</td>\n",
       "      <td>145659</td>\n",
       "    </tr>\n",
       "    <tr>\n",
       "      <th>서울특별시 광진구</th>\n",
       "      <td>서울특별시</td>\n",
       "      <td>광진구</td>\n",
       "      <td>339893</td>\n",
       "      <td>163920</td>\n",
       "      <td>175973</td>\n",
       "    </tr>\n",
       "  </tbody>\n",
       "</table>\n",
       "</div>"
      ],
      "text/plain": [
       "              시도   군구    총인구수   남자인구수   여자인구수\n",
       "시도군구                                         \n",
       "서울특별시 종로구  서울특별시  종로구  143624   69513   74111\n",
       "서울특별시 중구   서울특별시   중구  122088   59364   62724\n",
       "서울특별시 용산구  서울특별시  용산구  222263  106743  115520\n",
       "서울특별시 성동구  서울특별시  성동구  283821  138162  145659\n",
       "서울특별시 광진구  서울특별시  광진구  339893  163920  175973"
      ]
     },
     "execution_count": 211,
     "metadata": {},
     "output_type": "execute_result"
    }
   ],
   "source": [
    "# 컬럼값이 '소계'인 행은 제외\n",
    "popul = popul[popul.군구 != '소계']\n",
    "\n",
    "# 시도군구를 인덱스로 설정\n",
    "popul = popul.set_index(\"시도군구\")\n",
    "popul.head()"
   ]
  },
  {
   "cell_type": "code",
   "execution_count": 212,
   "id": "8517ceac",
   "metadata": {},
   "outputs": [
    {
     "data": {
      "text/html": [
       "<div>\n",
       "<style scoped>\n",
       "    .dataframe tbody tr th:only-of-type {\n",
       "        vertical-align: middle;\n",
       "    }\n",
       "\n",
       "    .dataframe tbody tr th {\n",
       "        vertical-align: top;\n",
       "    }\n",
       "\n",
       "    .dataframe thead th {\n",
       "        text-align: right;\n",
       "    }\n",
       "</style>\n",
       "<table border=\"1\" class=\"dataframe\">\n",
       "  <thead>\n",
       "    <tr style=\"text-align: right;\">\n",
       "      <th></th>\n",
       "      <th>시도_x</th>\n",
       "      <th>군구_x</th>\n",
       "      <th>count</th>\n",
       "      <th>시도_y</th>\n",
       "      <th>군구_y</th>\n",
       "      <th>총인구수</th>\n",
       "      <th>남자인구수</th>\n",
       "      <th>여자인구수</th>\n",
       "    </tr>\n",
       "    <tr>\n",
       "      <th>시도군구</th>\n",
       "      <th></th>\n",
       "      <th></th>\n",
       "      <th></th>\n",
       "      <th></th>\n",
       "      <th></th>\n",
       "      <th></th>\n",
       "      <th></th>\n",
       "      <th></th>\n",
       "    </tr>\n",
       "  </thead>\n",
       "  <tbody>\n",
       "    <tr>\n",
       "      <th>강원도 강릉시</th>\n",
       "      <td>강원도</td>\n",
       "      <td>강릉시</td>\n",
       "      <td>4</td>\n",
       "      <td>강원도</td>\n",
       "      <td>강릉시</td>\n",
       "      <td>212277</td>\n",
       "      <td>105308</td>\n",
       "      <td>106969</td>\n",
       "    </tr>\n",
       "    <tr>\n",
       "      <th>강원도 동해시</th>\n",
       "      <td>강원도</td>\n",
       "      <td>동해시</td>\n",
       "      <td>1</td>\n",
       "      <td>강원도</td>\n",
       "      <td>동해시</td>\n",
       "      <td>89574</td>\n",
       "      <td>45553</td>\n",
       "      <td>44021</td>\n",
       "    </tr>\n",
       "    <tr>\n",
       "      <th>강원도 삼척시</th>\n",
       "      <td>강원도</td>\n",
       "      <td>삼척시</td>\n",
       "      <td>1</td>\n",
       "      <td>강원도</td>\n",
       "      <td>삼척시</td>\n",
       "      <td>64165</td>\n",
       "      <td>32450</td>\n",
       "      <td>31715</td>\n",
       "    </tr>\n",
       "    <tr>\n",
       "      <th>강원도 속초시</th>\n",
       "      <td>강원도</td>\n",
       "      <td>속초시</td>\n",
       "      <td>1</td>\n",
       "      <td>강원도</td>\n",
       "      <td>속초시</td>\n",
       "      <td>82848</td>\n",
       "      <td>41100</td>\n",
       "      <td>41748</td>\n",
       "    </tr>\n",
       "    <tr>\n",
       "      <th>강원도 양구군</th>\n",
       "      <td>강원도</td>\n",
       "      <td>양구군</td>\n",
       "      <td>1</td>\n",
       "      <td>강원도</td>\n",
       "      <td>양구군</td>\n",
       "      <td>21607</td>\n",
       "      <td>11327</td>\n",
       "      <td>10280</td>\n",
       "    </tr>\n",
       "  </tbody>\n",
       "</table>\n",
       "</div>"
      ],
      "text/plain": [
       "        시도_x 군구_x  count 시도_y 군구_y    총인구수   남자인구수   여자인구수\n",
       "시도군구                                                      \n",
       "강원도 강릉시  강원도  강릉시      4  강원도  강릉시  212277  105308  106969\n",
       "강원도 동해시  강원도  동해시      1  강원도  동해시   89574   45553   44021\n",
       "강원도 삼척시  강원도  삼척시      1  강원도  삼척시   64165   32450   31715\n",
       "강원도 속초시  강원도  속초시      1  강원도  속초시   82848   41100   41748\n",
       "강원도 양구군  강원도  양구군      1  강원도  양구군   21607   11327   10280"
      ]
     },
     "execution_count": 212,
     "metadata": {},
     "output_type": "execute_result"
    }
   ],
   "source": [
    "# 시도군구별 병원 수와 시도군구별 인구수 데이터 병합\n",
    "# join, 양쪽 객체 모두가 공통으로 갖는 인덱스를 기준으로 가져옴\n",
    "addr_popul_merge = pd.merge(addr_group, popul, how='inner', left_index=True, right_index=True)\n",
    "addr_popul_merge.head()"
   ]
  },
  {
   "cell_type": "code",
   "execution_count": 213,
   "id": "d4e67663",
   "metadata": {},
   "outputs": [
    {
     "data": {
      "text/html": [
       "<div>\n",
       "<style scoped>\n",
       "    .dataframe tbody tr th:only-of-type {\n",
       "        vertical-align: middle;\n",
       "    }\n",
       "\n",
       "    .dataframe tbody tr th {\n",
       "        vertical-align: top;\n",
       "    }\n",
       "\n",
       "    .dataframe thead th {\n",
       "        text-align: right;\n",
       "    }\n",
       "</style>\n",
       "<table border=\"1\" class=\"dataframe\">\n",
       "  <thead>\n",
       "    <tr style=\"text-align: right;\">\n",
       "      <th></th>\n",
       "      <th>시도_x</th>\n",
       "      <th>군구_x</th>\n",
       "      <th>count</th>\n",
       "      <th>총인구수</th>\n",
       "    </tr>\n",
       "    <tr>\n",
       "      <th>시도군구</th>\n",
       "      <th></th>\n",
       "      <th></th>\n",
       "      <th></th>\n",
       "      <th></th>\n",
       "    </tr>\n",
       "  </thead>\n",
       "  <tbody>\n",
       "    <tr>\n",
       "      <th>강원도 강릉시</th>\n",
       "      <td>강원도</td>\n",
       "      <td>강릉시</td>\n",
       "      <td>4</td>\n",
       "      <td>212277</td>\n",
       "    </tr>\n",
       "    <tr>\n",
       "      <th>강원도 동해시</th>\n",
       "      <td>강원도</td>\n",
       "      <td>동해시</td>\n",
       "      <td>1</td>\n",
       "      <td>89574</td>\n",
       "    </tr>\n",
       "    <tr>\n",
       "      <th>강원도 삼척시</th>\n",
       "      <td>강원도</td>\n",
       "      <td>삼척시</td>\n",
       "      <td>1</td>\n",
       "      <td>64165</td>\n",
       "    </tr>\n",
       "    <tr>\n",
       "      <th>강원도 속초시</th>\n",
       "      <td>강원도</td>\n",
       "      <td>속초시</td>\n",
       "      <td>1</td>\n",
       "      <td>82848</td>\n",
       "    </tr>\n",
       "    <tr>\n",
       "      <th>강원도 양구군</th>\n",
       "      <td>강원도</td>\n",
       "      <td>양구군</td>\n",
       "      <td>1</td>\n",
       "      <td>21607</td>\n",
       "    </tr>\n",
       "  </tbody>\n",
       "</table>\n",
       "</div>"
      ],
      "text/plain": [
       "        시도_x 군구_x  count    총인구수\n",
       "시도군구                            \n",
       "강원도 강릉시  강원도  강릉시      4  212277\n",
       "강원도 동해시  강원도  동해시      1   89574\n",
       "강원도 삼척시  강원도  삼척시      1   64165\n",
       "강원도 속초시  강원도  속초시      1   82848\n",
       "강원도 양구군  강원도  양구군      1   21607"
      ]
     },
     "execution_count": 213,
     "metadata": {},
     "output_type": "execute_result"
    }
   ],
   "source": [
    "# 필요한 컬럼만 추출\n",
    "local_MC_Popul = addr_popul_merge[['시도_x', '군구_x', 'count', '총인구수']]\n",
    "local_MC_Popul.head()"
   ]
  },
  {
   "cell_type": "code",
   "execution_count": 214,
   "id": "6309062e",
   "metadata": {},
   "outputs": [
    {
     "data": {
      "text/html": [
       "<div>\n",
       "<style scoped>\n",
       "    .dataframe tbody tr th:only-of-type {\n",
       "        vertical-align: middle;\n",
       "    }\n",
       "\n",
       "    .dataframe tbody tr th {\n",
       "        vertical-align: top;\n",
       "    }\n",
       "\n",
       "    .dataframe thead th {\n",
       "        text-align: right;\n",
       "    }\n",
       "</style>\n",
       "<table border=\"1\" class=\"dataframe\">\n",
       "  <thead>\n",
       "    <tr style=\"text-align: right;\">\n",
       "      <th></th>\n",
       "      <th>시도</th>\n",
       "      <th>군구</th>\n",
       "      <th>count</th>\n",
       "      <th>인구수</th>\n",
       "      <th>MC_ratio</th>\n",
       "    </tr>\n",
       "    <tr>\n",
       "      <th>시도군구</th>\n",
       "      <th></th>\n",
       "      <th></th>\n",
       "      <th></th>\n",
       "      <th></th>\n",
       "      <th></th>\n",
       "    </tr>\n",
       "  </thead>\n",
       "  <tbody>\n",
       "    <tr>\n",
       "      <th>강원도 강릉시</th>\n",
       "      <td>강원도</td>\n",
       "      <td>강릉시</td>\n",
       "      <td>4</td>\n",
       "      <td>212277</td>\n",
       "      <td>1.88433</td>\n",
       "    </tr>\n",
       "    <tr>\n",
       "      <th>강원도 동해시</th>\n",
       "      <td>강원도</td>\n",
       "      <td>동해시</td>\n",
       "      <td>1</td>\n",
       "      <td>89574</td>\n",
       "      <td>1.11640</td>\n",
       "    </tr>\n",
       "    <tr>\n",
       "      <th>강원도 삼척시</th>\n",
       "      <td>강원도</td>\n",
       "      <td>삼척시</td>\n",
       "      <td>1</td>\n",
       "      <td>64165</td>\n",
       "      <td>1.55848</td>\n",
       "    </tr>\n",
       "    <tr>\n",
       "      <th>강원도 속초시</th>\n",
       "      <td>강원도</td>\n",
       "      <td>속초시</td>\n",
       "      <td>1</td>\n",
       "      <td>82848</td>\n",
       "      <td>1.20703</td>\n",
       "    </tr>\n",
       "    <tr>\n",
       "      <th>강원도 양구군</th>\n",
       "      <td>강원도</td>\n",
       "      <td>양구군</td>\n",
       "      <td>1</td>\n",
       "      <td>21607</td>\n",
       "      <td>4.62813</td>\n",
       "    </tr>\n",
       "  </tbody>\n",
       "</table>\n",
       "</div>"
      ],
      "text/plain": [
       "          시도   군구  count     인구수  MC_ratio\n",
       "시도군구                                      \n",
       "강원도 강릉시  강원도  강릉시      4  212277   1.88433\n",
       "강원도 동해시  강원도  동해시      1   89574   1.11640\n",
       "강원도 삼척시  강원도  삼척시      1   64165   1.55848\n",
       "강원도 속초시  강원도  속초시      1   82848   1.20703\n",
       "강원도 양구군  강원도  양구군      1   21607   4.62813"
      ]
     },
     "execution_count": 214,
     "metadata": {},
     "output_type": "execute_result"
    }
   ],
   "source": [
    "# 컬럼 이름 변경\n",
    "local_MC_Popul = local_MC_Popul.rename(columns = {'시도_x':'시도', '군구_x':'군구', '총인구수':'인구수'})\n",
    "\n",
    "# 인구수 대비 공공보건의료기관 비율 계산\n",
    "MC_count = local_MC_Popul['count']\n",
    "MC_count.head()\n",
    "# axis = 0 은 행을 기준으로 레이블을 나눔\n",
    "local_MC_Popul['MC_ratio'] = MC_count.div(local_MC_Popul['인구수'], axis = 0) * 100000\n",
    "\n",
    "local_MC_Popul.head()"
   ]
  },
  {
   "cell_type": "code",
   "execution_count": 215,
   "id": "8660c1ce",
   "metadata": {},
   "outputs": [
    {
     "data": {
      "image/png": "[encoded data removed]",
      "text/plain": [
       "<Figure size 1080x360 with 1 Axes>"
      ]
     },
     "metadata": {},
     "output_type": "display_data"
    }
   ],
   "source": [
    "# 바 차트 그리기\n",
    "MC_ratio = local_MC_Popul[['count']]\n",
    "MC_ratio = MC_ratio.sort_values('count', ascending = False)\n",
    "MC_ratio.plot(kind='bar', rot = 90)\n",
    "plt.show()"
   ]
  },
  {
   "cell_type": "markdown",
   "id": "93bae95f",
   "metadata": {},
   "source": [
    "### 더 생각해보기\n",
    "\n",
    "* 행정구역별 데이터(인구수, 기관수 등)를 활용해서 어떤 정보를 파악할 수 있을까?, 어떤 문제를 해결할 수 있을까?"
   ]
  }
 ],
 "metadata": {
  "kernelspec": {
   "display_name": "Python 3 (ipykernel)",
   "language": "python",
   "name": "python3"
  },
  "language_info": {
   "codemirror_mode": {
    "name": "ipython",
    "version": 3
   },
   "file_extension": ".py",
   "mimetype": "text/x-python",
   "name": "python",
   "nbconvert_exporter": "python",
   "pygments_lexer": "ipython3",
   "version": "3.9.12"
  }
 },
 "nbformat": 4,
 "nbformat_minor": 5
}
