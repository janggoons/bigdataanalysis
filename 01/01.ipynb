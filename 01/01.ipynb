{
  "nbformat": 4,
  "nbformat_minor": 0,
  "metadata": {
    "colab": {
      "name": "1일차.ipynb",
      "provenance": []
    },
    "kernelspec": {
      "name": "python3",
      "display_name": "Python 3"
    },
    "language_info": {
      "name": "python"
    }
  },
  "cells": [
    {
      "cell_type": "markdown",
      "source": [
        "# 빅데이터 분석 특강 (1)\n",
        "* 일시 : 2022년 7월 25일(월) 12:30~14:30\n",
        "* 주제 : 데이터 과학의 이해, 개발 환경 설치, 간단한 실습\n",
        "* 설문조사 \n",
        "  - 사전 설문조사 [링크](https://forms.gle/324gxSzDdz8AwuFeA)\n",
        "  - 인공지능 요구분석 설문조사 [링크](https://docs.google.com/forms/d/e/1FAIpQLSfF0Ox2J7iuJc88cjR5s502JxoQZwbTbRV8quImYX_cCA7YDA/viewform?usp=sf_link)"
      ],
      "metadata": {
        "id": "pzQqrYEhyzYQ"
      }
    },
    {
      "cell_type": "markdown",
      "source": [
        "## 데이터 과학의 이해\n",
        "0. 구글 잼보드 [링크](https://jamboard.google.com/d/1JuwctVy1yCJFU3w_cDCryNovBtdvPX3P8tqbeH9QRnI/edit?usp=sharing)\n",
        "\n",
        "1. 데이터 분석 절차\n",
        "  - 연구목표 설정 > 데이터 수집 > 데이터 전처리 > 데이터 탐색 > 데이터 모델링 > 결과 발표 및 자동화\n",
        "    - 데이터 수집 : 직접 데이터 수집 또는 개방 데이터 활용, 크롤링, open API 활용 등\n",
        "    - 데이터 전처리 : 여과, 정제, 통합, 축소 변환 등\n",
        "    - 데이터 탐색 : 데이터 분포 등을 살펴 변수간의 관계나 상호 작용을 이해\n",
        "    - 데이터 모델링 : 변수를 정하고 분석 방법을 적용하여 답을 찾는 과정\n",
        "\n",
        "1. 데이터 과학자 역량\n",
        "  - 수학과 통계적 지식, 소프트웨어 기술, 도메인 지식, 머신러닝, 연구방법\n",
        "  - 수학, 공학, 비판적 사고, 글쓰기, 커뮤니케이션, 윤리\n",
        "\n",
        "1. 데이터 분석 vs 빅데이터 분석\n",
        "  - 데이터의 크기 : GB, TB vs PB, EB\n",
        "  - 데이터 구성 방법 : 정형 데이터 vs 비정형 데이터\n",
        "  - 데이터 관리를 위한 아키텍처 : 중앙 집중 시스템(DB) vs 분산 시스템(Hadoop)\n",
        "\n",
        "1. 데이터 분석 도구\n",
        "  - 스프레드시트, 관계형 데이터베이스, R or Python, Cloud, 커스텀 코드\n",
        "\n",
        "1. 데이터 분석 모델의 종류\n",
        "  - 통계 모델\n",
        "    - 기술통계 : 데이터가 가진 일반적인 특성(빈도수, 비율, 평균, 표준편차 등)\n",
        "    - 추론통계 : 표본분석을 토대로 모집단의 특성을 추론(분산, 상관, 회귀 등)\n",
        "  - 데이터마이닝 모델 : 대규모 데이터에 숨어있는 패턴 발견 및 규칙 발견(군집, 연관, 분류, 예측 등)\n",
        "  - 텍스트 마이닝 모델 : 텍스트 기반 데이터에서 정보 검색, 추출, 체계화, 분석을 포함하는 방법\n",
        "  - 소셜 네트워크 분석 모델 : 언어 분석 기반의 정보 추출을 통해 대용량의 소셜 미디어 데이터에서 이슈를 탐지하고, 이슈가 유통되는 전 과정을 분석하는 방법\n",
        "  - 통계 분석은 샘플링을 통해 모집단의 특성을 추론하는 것이 목표, 데이터마이닝은 이미 모집단을 가지고 있으므로 바로 분석 가능\n",
        "\n",
        "1. 나는 어떤 문제에 관심이 있을까? \n",
        "  - 관심 주제, 해결하고 싶은 문제, 흥미로운 데이터를 찾아서 구글 잼보드에 작성해보자."
      ],
      "metadata": {
        "id": "IYIAeLmvz5CE"
      }
    },
    {
      "cell_type": "markdown",
      "source": [
        "## 데이터 분석을 위한 개발 환경 구축\n",
        "\n",
        "1. 파이썬 통합 개발 환경\n",
        "  - Python\n",
        "  - Jupyter Notebook\n",
        "  - Spyder\n",
        "  - Visual Studio Code\n",
        "  - PyCharm\n",
        "\n",
        "2. 아나콘다 Anaconda\n",
        "  - 과학 계산을 위한 파이썬 프로그래밍 언어의 패키지 버전\n",
        "    - 데이터 분석에 필요한 여러가지 파이썬 외부 라이브러리를 한 번에 설치할 수 있음\n",
        "    - 여유 공간이 약 3GB 정도 필요함 \n",
        "  - 다운로드 [링크](https://www.anaconda.com/products/distribution)\n",
        "  - 설치할 컴퓨터 운영체제 맞는 설치 파일 다운로드 및 설치하기\n",
        "\n",
        "3. Hello World!\n",
        "  - 아나콘다로 설치한 주피터 노트북 실행\n",
        "  - Hello World! 를 출력해 보자.\n",
        "\n",
        "\n"
      ],
      "metadata": {
        "id": "--8VuBH47-fd"
      }
    },
    {
      "cell_type": "code",
      "source": [
        "print(\"Hello World!\")"
      ],
      "metadata": {
        "colab": {
          "base_uri": "https://localhost:8080/"
        },
        "id": "lP75zfsEEaeh",
        "outputId": "9be31b4a-8be0-4c27-e468-22bb91269a4b"
      },
      "execution_count": null,
      "outputs": [
        {
          "output_type": "stream",
          "name": "stdout",
          "text": [
            "Hello World!\n"
          ]
        }
      ]
    },
    {
      "cell_type": "markdown",
      "source": [
        "## 파이썬 실습\n",
        "\n",
        "1. 변수와 연산자\n",
        "2. 자료형\n",
        "  - 기본 자료형 : 숫자, 문자, 논리\n",
        "  - 그룹 자료형 : 문자열, 리스트, 튜플, 딕셔너리, 집합\n",
        "3. 조건문\n",
        "4. 반복문\n",
        "5. 함수 \n"
      ],
      "metadata": {
        "id": "vWu_RnA48BgF"
      }
    },
    {
      "cell_type": "code",
      "execution_count": null,
      "metadata": {
        "colab": {
          "base_uri": "https://localhost:8080/"
        },
        "id": "jV2yvgfCyIKJ",
        "outputId": "6833c52f-e26e-4062-abc2-86795467ed9b"
      },
      "outputs": [
        {
          "output_type": "stream",
          "name": "stdout",
          "text": [
            "숫자 입력: 1\n",
            "숫자 입력: 2\n",
            "1 + 2 = 3\n"
          ]
        }
      ],
      "source": [
        "# 변수 예제 - 2 개의 정수를 입력받아 덧셈한 결과를 출력하기\n",
        "a = int(input(\"숫자 입력: \"))\n",
        "b = int(input(\"숫자 입력: \"))\n",
        "c = a + b\n",
        "print(f\"{a} + {b} = {c}\")"
      ]
    },
    {
      "cell_type": "code",
      "execution_count": null,
      "metadata": {
        "colab": {
          "base_uri": "https://localhost:8080/",
          "height": 35
        },
        "outputId": "c5b63992-32b8-49cc-81f1-5becda55ccc9",
        "id": "_gcwZNhsFI-r"
      },
      "outputs": [
        {
          "output_type": "execute_result",
          "data": {
            "text/plain": [
              "'\\n첫번째 숫자 :\\n두번째 숫자 :\\n0 + 0 = 0\\n0 - 0 = 0\\n0 * 0 = 0\\n0 / 0 = 0\\n'"
            ],
            "application/vnd.google.colaboratory.intrinsic+json": {
              "type": "string"
            }
          },
          "metadata": {},
          "execution_count": 34
        }
      ],
      "source": [
        "# (문제) 2 개의 정수를 입력받아 덧셈, 뺄셈, 곱셈, 나눗셈 결과를 출력하기\n",
        "# 출력 예시:\n",
        "'''\n",
        "첫번째 숫자 :\n",
        "두번째 숫자 :\n",
        "0 + 0 = 0\n",
        "0 - 0 = 0\n",
        "0 * 0 = 0\n",
        "0 / 0 = 0\n",
        "'''"
      ]
    },
    {
      "cell_type": "code",
      "source": [
        "# 문자열 예제 - 두 개의 단어를 입력받아, 하나로 합쳐서 출력하기\n",
        "a = input(\"단어 입력: \")\n",
        "b = input(\"단어 입력: \")\n",
        "c = a + b\n",
        "print(f\"입력한 단어를 합치면 '{c}' 입니다.\")"
      ],
      "metadata": {
        "colab": {
          "base_uri": "https://localhost:8080/"
        },
        "id": "qdN2MvwbFb4A",
        "outputId": "1dedb452-fc76-43ac-8ac6-1b06008c4411"
      },
      "execution_count": null,
      "outputs": [
        {
          "output_type": "stream",
          "name": "stdout",
          "text": [
            "단어 입력: 안녕\n",
            "단어 입력: 세상\n",
            "입력한 단어를 합치면 '안녕세상' 입니다.\n"
          ]
        }
      ]
    },
    {
      "cell_type": "code",
      "source": [
        "# 문자열 예제 - 문자열 인덱싱\n",
        "a = 'hello, world'\n",
        "\n",
        "# 문자열 길이\n",
        "print(len(a))\n",
        "\n",
        "# 문자열의 특정 위치 단어 출력\n",
        "print(a[2]) \n",
        "\n",
        "# rld 만 잘라서 출력\n",
        "print(a[9:])\n",
        "\n",
        "# 문자 개수 계산 \n",
        "print(a.count('l'))\n",
        "\n",
        "# 문자 위치 확인\n",
        "print(a.find('l'))\n",
        "\n",
        "# 문자열 나누기\n",
        "print(a.split())\n",
        "print(a.split(','))"
      ],
      "metadata": {
        "colab": {
          "base_uri": "https://localhost:8080/"
        },
        "id": "rflR6AfZF2i4",
        "outputId": "8354f6e4-dae0-4595-e1bb-f2989f876124"
      },
      "execution_count": null,
      "outputs": [
        {
          "output_type": "stream",
          "name": "stdout",
          "text": [
            "12\n",
            "l\n",
            "rld\n",
            "3\n",
            "2\n",
            "['hello,', 'world']\n",
            "['hello', ' world']\n"
          ]
        },
        {
          "output_type": "execute_result",
          "data": {
            "text/plain": [
              "list"
            ]
          },
          "metadata": {},
          "execution_count": 33
        }
      ]
    },
    {
      "cell_type": "code",
      "source": [
        "# (문제) 좋아하는 노래 가사를 인터넷에서 가져와서 하나의 변수에 문자열로 저장하고, 가사의 길이, 특정 단어의 수, ',' 로 나누기를 실행하시오.\n",
        "# 출력 예시 : \n",
        "'''\n",
        "가사의 길이 : \n",
        "'000' 단어의 수 :\n",
        "'''"
      ],
      "metadata": {
        "id": "NuscwgGDcXM8"
      },
      "execution_count": null,
      "outputs": []
    },
    {
      "cell_type": "code",
      "source": [
        "# 리스트 예제\n",
        "a = [1, 2, 3]\n",
        "b = [8, 7, 6, 5]\n",
        "c = [10, 11, 12]\n",
        "\n",
        "# 리스트 연결\n",
        "print(a + b)\n",
        "\n",
        "# 리스트 반복\n",
        "print(b * 3)\n",
        "\n",
        "# 아이템 추가\n",
        "a.append(4)\n",
        "print(a)\n",
        "\n",
        "# 아이템 정렬\n",
        "b.sort()\n",
        "print(b)\n",
        "\n",
        "# 아이템 순서 뒤집기\n",
        "c.reverse()\n",
        "print(c)\n",
        "\n",
        "# 아이템 삭제\n",
        "a.remove(3)\n",
        "print(a)\n",
        "b.pop()\n",
        "print(b)\n",
        "\n",
        "# 특정 아이템 개수\n",
        "c.append(10)\n",
        "c.count(10)"
      ],
      "metadata": {
        "colab": {
          "base_uri": "https://localhost:8080/"
        },
        "id": "AA-LI96BF-m_",
        "outputId": "0b055500-1bb4-42ca-f127-15516c0039b6"
      },
      "execution_count": null,
      "outputs": [
        {
          "output_type": "stream",
          "name": "stdout",
          "text": [
            "[1, 2, 3, 8, 7, 6, 5]\n",
            "[8, 7, 6, 5, 8, 7, 6, 5, 8, 7, 6, 5]\n",
            "[1, 2, 3, 4]\n",
            "[5, 6, 7, 8]\n",
            "[12, 11, 10]\n",
            "[1, 2, 4]\n",
            "[5, 6, 7]\n"
          ]
        },
        {
          "output_type": "execute_result",
          "data": {
            "text/plain": [
              "2"
            ]
          },
          "metadata": {},
          "execution_count": 31
        }
      ]
    },
    {
      "cell_type": "code",
      "source": [
        "# (문제) 내가 좋아하는 노래 가사를 리스트로 저장하여, 특정 단어의 등장 횟수를 출력하기"
      ],
      "metadata": {
        "id": "FTgVEv-KeJOV"
      },
      "execution_count": null,
      "outputs": []
    },
    {
      "cell_type": "code",
      "source": [
        "# 딕셔너리 예제\n",
        "dic = {'abs':'숫자의 절댓값을 돌려줍니다.', 'input':'prompt 인자가 있으면, 끝에 개행 문자를 붙이지 않고 표준 출력에 씁니다. 그런 다음 함수는 입력에서 한 줄을 읽고, 문자열로 변환해서 (줄 끝의 줄 바꿈 문자를 제거한다) 돌려줍니다', 'float':'숫자 또는 문자열 x 로 부터 실수를 만들어 돌려줍니다.'}\n",
        "print(dic)\n",
        "\n",
        "# 특정 키에 해당하는 값 출력\n",
        "print(dic['abs'])\n",
        "\n",
        "# 아이템 추가\n",
        "dic['mac'] = 'iterable 에서 가장 큰 항목이나 두 개 이상의 인자 중 가장 큰 것을 돌려줍니다.'\n",
        "print(dic)\n",
        "\n",
        "# 키를 리스트로 만들기\n",
        "print(list(dic.keys()))\n",
        "\n",
        "# 값을 리스트로 만들기\n",
        "print(list(dic.values()))\n",
        "\n",
        "# 키와 값의 쌍을 출력하기\n",
        "print(dic.items())\n",
        "\n",
        "# 아이템 모두 삭제\n",
        "print(dic.clear())"
      ],
      "metadata": {
        "colab": {
          "base_uri": "https://localhost:8080/"
        },
        "id": "EPPYiWHHGCQ1",
        "outputId": "1d0ba464-01a5-4c1b-a150-bfed7b2fa032"
      },
      "execution_count": null,
      "outputs": [
        {
          "output_type": "stream",
          "name": "stdout",
          "text": [
            "{'abs': '숫자의 절댓값을 돌려줍니다.', 'input': 'prompt 인자가 있으면, 끝에 개행 문자를 붙이지 않고 표준 출력에 씁니다. 그런 다음 함수는 입력에서 한 줄을 읽고, 문자열로 변환해서 (줄 끝의 줄 바꿈 문자를 제거한다) 돌려줍니다', 'float': '숫자 또는 문자열 x 로 부터 실수를 만들어 돌려줍니다.'}\n",
            "숫자의 절댓값을 돌려줍니다.\n",
            "{'abs': '숫자의 절댓값을 돌려줍니다.', 'input': 'prompt 인자가 있으면, 끝에 개행 문자를 붙이지 않고 표준 출력에 씁니다. 그런 다음 함수는 입력에서 한 줄을 읽고, 문자열로 변환해서 (줄 끝의 줄 바꿈 문자를 제거한다) 돌려줍니다', 'float': '숫자 또는 문자열 x 로 부터 실수를 만들어 돌려줍니다.', 'mac': 'iterable 에서 가장 큰 항목이나 두 개 이상의 인자 중 가장 큰 것을 돌려줍니다.'}\n",
            "['abs', 'input', 'float', 'mac']\n",
            "['숫자의 절댓값을 돌려줍니다.', 'prompt 인자가 있으면, 끝에 개행 문자를 붙이지 않고 표준 출력에 씁니다. 그런 다음 함수는 입력에서 한 줄을 읽고, 문자열로 변환해서 (줄 끝의 줄 바꿈 문자를 제거한다) 돌려줍니다', '숫자 또는 문자열 x 로 부터 실수를 만들어 돌려줍니다.', 'iterable 에서 가장 큰 항목이나 두 개 이상의 인자 중 가장 큰 것을 돌려줍니다.']\n",
            "dict_items([('abs', '숫자의 절댓값을 돌려줍니다.'), ('input', 'prompt 인자가 있으면, 끝에 개행 문자를 붙이지 않고 표준 출력에 씁니다. 그런 다음 함수는 입력에서 한 줄을 읽고, 문자열로 변환해서 (줄 끝의 줄 바꿈 문자를 제거한다) 돌려줍니다'), ('float', '숫자 또는 문자열 x 로 부터 실수를 만들어 돌려줍니다.'), ('mac', 'iterable 에서 가장 큰 항목이나 두 개 이상의 인자 중 가장 큰 것을 돌려줍니다.')])\n",
            "None\n"
          ]
        }
      ]
    },
    {
      "cell_type": "code",
      "source": [
        "# (연습) 음식 메뉴판 정보를 딕셔너리로 만들고, 음식 이름을 입력하면 해당 음식의 가격을 출력하기 (음식 정보는 3개 입력하기)\n",
        "# 출력 예시:\n",
        "'''\n",
        "음식 이름 : 000\n",
        "000의 가격은 000 입니다.\n",
        "\n",
        "'''"
      ],
      "metadata": {
        "id": "kZzpajSzlSOr"
      },
      "execution_count": null,
      "outputs": []
    },
    {
      "cell_type": "code",
      "source": [
        "# 조건문 예제\n",
        "a = [1, 2, 3]\n",
        "b = [4, 5, 6]\n",
        "\n",
        "# 비교 연산자 : == != > < >= <=\n",
        "print(a[0] > b[0])\n",
        "print(a[1] != b[1])\n",
        "print('----')\n",
        "\n",
        "# 논리 연산자 : and or not\n",
        "print(5 > 4 and 7 > 2)\n",
        "print(3 > 4 or 7 > 2)\n",
        "print('----')\n",
        "\n",
        "\n",
        "# 포함 여부 확인\n",
        "print(1 in a)\n",
        "print(6 not in b)\n",
        "print('----')\n",
        "\n",
        "# 조건문 : if-else\n",
        "c = 5\n",
        "\n",
        "if c in a:\n",
        "  print('yes')\n",
        "else:\n",
        "  print('no')\n",
        "\n",
        "if c in b:\n",
        "  print('yes')\n",
        "else:\n",
        "  print('no')"
      ],
      "metadata": {
        "colab": {
          "base_uri": "https://localhost:8080/"
        },
        "id": "7h360-PRGGdg",
        "outputId": "aafbbbe0-e211-4509-fcd3-06684c067814"
      },
      "execution_count": null,
      "outputs": [
        {
          "output_type": "stream",
          "name": "stdout",
          "text": [
            "False\n",
            "True\n",
            "----\n",
            "True\n",
            "True\n",
            "----\n",
            "True\n",
            "False\n",
            "----\n",
            "no\n",
            "yes\n"
          ]
        }
      ]
    },
    {
      "cell_type": "code",
      "source": [
        "# 반복문 예제\n",
        "\n",
        "# 리스트에 있는 모든 값을 더하기\n",
        "a = [1, 2, 3]\n",
        "sum = 0\n",
        "for i in a:\n",
        "  sum = sum + i\n",
        "print(sum)\n",
        "\n",
        "i, sum = 0, 0\n",
        "while i < len(a):\n",
        "  sum = sum + a[i]\n",
        "  i += 1\n",
        "print(sum)\n",
        "\n",
        "# 구구단 출력\n",
        "for i in range(1, 9+1, 1):\n",
        "  res = i * i\n",
        "  print(f'{i} * {i} = {res}')"
      ],
      "metadata": {
        "colab": {
          "base_uri": "https://localhost:8080/"
        },
        "id": "9mnrI6pXGIPz",
        "outputId": "c7916f82-c449-4abe-957d-f3ed437f6aa8"
      },
      "execution_count": null,
      "outputs": [
        {
          "output_type": "stream",
          "name": "stdout",
          "text": [
            "6\n",
            "6\n",
            "1 * 1 = 1\n",
            "2 * 2 = 4\n",
            "3 * 3 = 9\n",
            "4 * 4 = 16\n",
            "5 * 5 = 25\n",
            "6 * 6 = 36\n",
            "7 * 7 = 49\n",
            "8 * 8 = 64\n",
            "9 * 9 = 81\n"
          ]
        }
      ]
    },
    {
      "cell_type": "code",
      "source": [
        "# (연습) 1부터 1,000까지 숫자 합을 계산하시오."
      ],
      "metadata": {
        "id": "nVwYPR6HoZw3"
      },
      "execution_count": null,
      "outputs": []
    },
    {
      "cell_type": "code",
      "source": [
        "# (연습) 구구단을 1단부터 9단까지 모두 출력하시오.\n",
        "# 출력 예시:\n",
        "'''\n",
        "1 * 1 = 1\n",
        "1 * 2 = 2\n",
        "1 * 3 = 3\n",
        "...\n",
        "'''"
      ],
      "metadata": {
        "id": "mQKGVaYmov8U"
      },
      "execution_count": null,
      "outputs": []
    },
    {
      "cell_type": "code",
      "source": [
        "# 함수 예제\n",
        "\n",
        "# 단어를 반복해서 출력하기(1)\n",
        "a = 'python'\n",
        "print(a * 3)\n",
        "\n",
        "# 단어를 반복해서 출력하기(2)\n",
        "word = input(\"단어 입력: \")\n",
        "num = int(input(\"반복 횟수: \"))\n",
        "print(word * num)\n",
        "\n",
        "# 단어를 반복해서 출력하기(3)\n",
        "def repet_word(w, n):\n",
        "  print(w * n)\n",
        "\n",
        "word = input(\"단어 입력: \")\n",
        "num = int(input(\"반복 횟수: \"))\n",
        "repet_word(word, num)\n",
        "\n",
        "# 단어를 반복해서 출력하기(4)\n",
        "def repet_word():\n",
        "  w = input(\"단어 입력: \")\n",
        "  n = int(input(\"반복 횟수: \"))\n",
        "  print(w * n)\n",
        "\n",
        "repet_word()"
      ],
      "metadata": {
        "colab": {
          "base_uri": "https://localhost:8080/"
        },
        "id": "2HUzZsYkGKLc",
        "outputId": "5a4d1927-315a-48f2-e23a-7d6122b19750"
      },
      "execution_count": null,
      "outputs": [
        {
          "output_type": "stream",
          "name": "stdout",
          "text": [
            "pythonpythonpython\n",
            "단어 입력: python\n",
            "반복 횟수: 3\n",
            "pythonpythonpython\n",
            "단어 입력: python\n",
            "반복 횟수: 3\n",
            "pythonpythonpython\n"
          ]
        }
      ]
    },
    {
      "cell_type": "code",
      "source": [
        "# 함수 예제\n",
        "\n",
        "def sum_func(*args):\n",
        "  sum = 0\n",
        "  for i in args:\n",
        "    sum += i\n",
        "  return sum\n",
        "\n",
        "print(sum_func(1, 2))\n",
        "print(sum_func(1, 2, 3))\n",
        "print(sum_func(1.2, 2.3, 3.4))"
      ],
      "metadata": {
        "colab": {
          "base_uri": "https://localhost:8080/"
        },
        "id": "AohbAhwwqqed",
        "outputId": "79ff7287-4cfc-42eb-9bde-b36f38092f2d"
      },
      "execution_count": null,
      "outputs": [
        {
          "output_type": "stream",
          "name": "stdout",
          "text": [
            "3\n",
            "6\n",
            "6.9\n"
          ]
        }
      ]
    },
    {
      "cell_type": "code",
      "source": [
        "# (연습) 참고자료에서 내장함수를 3개 선택하여, 예시 코드를 한개씩 만들기\n",
        "# 참고자료 : https://docs.python.org/ko/3/library/functions.html"
      ],
      "metadata": {
        "id": "rpyiGyfHrYgj"
      },
      "execution_count": null,
      "outputs": []
    },
    {
      "cell_type": "code",
      "source": [
        "# 모듈과 패키지 예제\n",
        "# 모듈 : 함수나 변수 또는 객체를 정의하는 클래스를 모아놓은 파일\n",
        "# 패키지 : 모듈을 모아놓은 디렉터리\n",
        "\n",
        "# 로또 번호 생성기\n",
        "import random\n",
        "\n",
        "a = []\n",
        "for i in range(6):\n",
        "  a.append(random.randint(1,45))  \n",
        "a.sort()\n",
        "print(a)"
      ],
      "metadata": {
        "colab": {
          "base_uri": "https://localhost:8080/"
        },
        "id": "3vmItdq7r2l0",
        "outputId": "bc4e3521-962c-4095-91c8-61cde2606778"
      },
      "execution_count": null,
      "outputs": [
        {
          "output_type": "stream",
          "name": "stdout",
          "text": [
            "[11, 19, 28, 33, 41, 45]\n"
          ]
        }
      ]
    },
    {
      "cell_type": "code",
      "source": [
        "# (연습) 로또 번호 생성기에서 중복된 값이 제외되도록 만들기"
      ],
      "metadata": {
        "id": "V_3DQg2qtJUb"
      },
      "execution_count": null,
      "outputs": []
    },
    {
      "cell_type": "code",
      "source": [
        "# (연습) 로또 번호를 5세트 출력하기"
      ],
      "metadata": {
        "id": "tbj5wZcktVSW"
      },
      "execution_count": null,
      "outputs": []
    }
  ]
}